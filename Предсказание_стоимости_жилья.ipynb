{
 "cells": [
  {
   "cell_type": "markdown",
   "id": "GEqQaHzsZ_bA",
   "metadata": {
    "id": "GEqQaHzsZ_bA"
   },
   "source": [
    "# Предсказание стоимости жилья"
   ]
  },
  {
   "cell_type": "markdown",
   "id": "bad370c6",
   "metadata": {},
   "source": [
    "**Задача проекта** — предсказать медианную стоимость дома в жилом массиве в Калифорнии на основе данных за 1990 год. Необходимо обучить модель линейной регрессии и сделать предсказания на тестовой выборке. В качестве метрик оценки будут использованы метрики *RMSE*, *MAE* и *R2*."
   ]
  },
  {
   "cell_type": "markdown",
   "id": "53871372",
   "metadata": {
    "id": "53871372"
   },
   "source": [
    "## Подготовка данных"
   ]
  },
  {
   "cell_type": "code",
   "execution_count": 14,
   "id": "af225d39",
   "metadata": {},
   "outputs": [],
   "source": [
    "# импорт библиотек и методов\n",
    "import pandas as pd \n",
    "import numpy as np\n",
    "\n",
    "import pyspark\n",
    "from pyspark.sql import SparkSession\n",
    "from pyspark.sql.types import *\n",
    "import pyspark.sql.functions as F\n",
    "from pyspark.sql.functions import when\n",
    "\n",
    "from pyspark.ml.feature import StringIndexer, VectorAssembler, StandardScaler\n",
    "from pyspark.ml.regression import LinearRegression\n",
    "from pyspark.ml.evaluation import RegressionEvaluator\n",
    "from pyspark.mllib.evaluation import RegressionMetrics\n",
    "\n",
    "pyspark_version = pyspark.__version__\n",
    "if int(pyspark_version[:1]) == 3:\n",
    "    from pyspark.ml.feature import OneHotEncoder    \n",
    "elif int(pyspark_version[:1]) == 2:\n",
    "    from pyspark.ml.feature import OneHotEncodeEstimator\n",
    "\n",
    "spark = SparkSession.builder \\\n",
    "        .master(\"local\") \\\n",
    "        .appName(\"Training model\") \\\n",
    "        .getOrCreate()"
   ]
  },
  {
   "cell_type": "code",
   "execution_count": 15,
   "id": "6571ff9c",
   "metadata": {},
   "outputs": [
    {
     "name": "stdout",
     "output_type": "stream",
     "text": [
      "+---------+--------+------------------+-----------+--------------+----------+----------+-------------+------------------+---------------+\n",
      "|longitude|latitude|housing_median_age|total_rooms|total_bedrooms|population|households|median_income|median_house_value|ocean_proximity|\n",
      "+---------+--------+------------------+-----------+--------------+----------+----------+-------------+------------------+---------------+\n",
      "|  -122.23|   37.88|              41.0|      880.0|         129.0|     322.0|     126.0|       8.3252|          452600.0|       NEAR BAY|\n",
      "|  -122.22|   37.86|              21.0|     7099.0|        1106.0|    2401.0|    1138.0|       8.3014|          358500.0|       NEAR BAY|\n",
      "|  -122.24|   37.85|              52.0|     1467.0|         190.0|     496.0|     177.0|       7.2574|          352100.0|       NEAR BAY|\n",
      "|  -122.25|   37.85|              52.0|     1274.0|         235.0|     558.0|     219.0|       5.6431|          341300.0|       NEAR BAY|\n",
      "|  -122.25|   37.85|              52.0|     1627.0|         280.0|     565.0|     259.0|       3.8462|          342200.0|       NEAR BAY|\n",
      "+---------+--------+------------------+-----------+--------------+----------+----------+-------------+------------------+---------------+\n",
      "only showing top 5 rows\n",
      "\n"
     ]
    }
   ],
   "source": [
    "# чтение файла и вывод первых пяти строк \n",
    "df = spark.read.load('/datasets/housing.csv', format='csv', sep=',', inferSchema=True, header='true')\n",
    "df.show(5)"
   ]
  },
  {
   "cell_type": "code",
   "execution_count": 16,
   "id": "babff073",
   "metadata": {
    "scrolled": true
   },
   "outputs": [
    {
     "name": "stdout",
     "output_type": "stream",
     "text": [
      "root\n",
      " |-- longitude: double (nullable = true)\n",
      " |-- latitude: double (nullable = true)\n",
      " |-- housing_median_age: double (nullable = true)\n",
      " |-- total_rooms: double (nullable = true)\n",
      " |-- total_bedrooms: double (nullable = true)\n",
      " |-- population: double (nullable = true)\n",
      " |-- households: double (nullable = true)\n",
      " |-- median_income: double (nullable = true)\n",
      " |-- median_house_value: double (nullable = true)\n",
      " |-- ocean_proximity: string (nullable = true)\n",
      "\n"
     ]
    }
   ],
   "source": [
    "# просмотр типов данных\n",
    "df.printSchema()"
   ]
  },
  {
   "cell_type": "code",
   "execution_count": 17,
   "id": "8c65e8d8",
   "metadata": {},
   "outputs": [
    {
     "name": "stderr",
     "output_type": "stream",
     "text": [
      "[Stage 11:>                                                         (0 + 1) / 1]\r"
     ]
    },
    {
     "name": "stdout",
     "output_type": "stream",
     "text": [
      "-RECORD 0-----------------\n",
      " longitude          | 0   \n",
      " latitude           | 0   \n",
      " housing_median_age | 0   \n",
      " total_rooms        | 0   \n",
      " total_bedrooms     | 207 \n",
      " population         | 0   \n",
      " households         | 0   \n",
      " median_income      | 0   \n",
      " median_house_value | 0   \n",
      " ocean_proximity    | 0   \n",
      "\n"
     ]
    },
    {
     "name": "stderr",
     "output_type": "stream",
     "text": [
      "                                                                                \r"
     ]
    }
   ],
   "source": [
    "# просмотр количества пропусков \n",
    "df.select(*(F.sum(F.col(c).isNull().cast(\"int\")).alias(c) for c in df.columns)).show(vertical=True)"
   ]
  },
  {
   "cell_type": "code",
   "execution_count": 18,
   "id": "1470d305",
   "metadata": {},
   "outputs": [
    {
     "data": {
      "text/html": [
       "<div>\n",
       "<style scoped>\n",
       "    .dataframe tbody tr th:only-of-type {\n",
       "        vertical-align: middle;\n",
       "    }\n",
       "\n",
       "    .dataframe tbody tr th {\n",
       "        vertical-align: top;\n",
       "    }\n",
       "\n",
       "    .dataframe thead th {\n",
       "        text-align: right;\n",
       "    }\n",
       "</style>\n",
       "<table border=\"1\" class=\"dataframe\">\n",
       "  <thead>\n",
       "    <tr style=\"text-align: right;\">\n",
       "      <th></th>\n",
       "      <th>longitude</th>\n",
       "      <th>latitude</th>\n",
       "      <th>housing_median_age</th>\n",
       "      <th>total_rooms</th>\n",
       "      <th>total_bedrooms</th>\n",
       "      <th>population</th>\n",
       "      <th>households</th>\n",
       "      <th>median_income</th>\n",
       "      <th>median_house_value</th>\n",
       "      <th>ocean_proximity</th>\n",
       "    </tr>\n",
       "  </thead>\n",
       "  <tbody>\n",
       "    <tr>\n",
       "      <th>0</th>\n",
       "      <td>-122.23</td>\n",
       "      <td>37.88</td>\n",
       "      <td>41.0</td>\n",
       "      <td>880.0</td>\n",
       "      <td>129.0</td>\n",
       "      <td>322.0</td>\n",
       "      <td>126.0</td>\n",
       "      <td>8.3252</td>\n",
       "      <td>452600.0</td>\n",
       "      <td>NEAR BAY</td>\n",
       "    </tr>\n",
       "    <tr>\n",
       "      <th>1</th>\n",
       "      <td>-122.22</td>\n",
       "      <td>37.86</td>\n",
       "      <td>21.0</td>\n",
       "      <td>7099.0</td>\n",
       "      <td>1106.0</td>\n",
       "      <td>2401.0</td>\n",
       "      <td>1138.0</td>\n",
       "      <td>8.3014</td>\n",
       "      <td>358500.0</td>\n",
       "      <td>NEAR BAY</td>\n",
       "    </tr>\n",
       "    <tr>\n",
       "      <th>2</th>\n",
       "      <td>-122.24</td>\n",
       "      <td>37.85</td>\n",
       "      <td>52.0</td>\n",
       "      <td>1467.0</td>\n",
       "      <td>190.0</td>\n",
       "      <td>496.0</td>\n",
       "      <td>177.0</td>\n",
       "      <td>7.2574</td>\n",
       "      <td>352100.0</td>\n",
       "      <td>NEAR BAY</td>\n",
       "    </tr>\n",
       "    <tr>\n",
       "      <th>3</th>\n",
       "      <td>-122.25</td>\n",
       "      <td>37.85</td>\n",
       "      <td>52.0</td>\n",
       "      <td>1274.0</td>\n",
       "      <td>235.0</td>\n",
       "      <td>558.0</td>\n",
       "      <td>219.0</td>\n",
       "      <td>5.6431</td>\n",
       "      <td>341300.0</td>\n",
       "      <td>NEAR BAY</td>\n",
       "    </tr>\n",
       "    <tr>\n",
       "      <th>4</th>\n",
       "      <td>-122.25</td>\n",
       "      <td>37.85</td>\n",
       "      <td>52.0</td>\n",
       "      <td>1627.0</td>\n",
       "      <td>280.0</td>\n",
       "      <td>565.0</td>\n",
       "      <td>259.0</td>\n",
       "      <td>3.8462</td>\n",
       "      <td>342200.0</td>\n",
       "      <td>NEAR BAY</td>\n",
       "    </tr>\n",
       "  </tbody>\n",
       "</table>\n",
       "</div>"
      ],
      "text/plain": [
       "   longitude  latitude  housing_median_age  total_rooms  total_bedrooms  \\\n",
       "0    -122.23     37.88                41.0        880.0           129.0   \n",
       "1    -122.22     37.86                21.0       7099.0          1106.0   \n",
       "2    -122.24     37.85                52.0       1467.0           190.0   \n",
       "3    -122.25     37.85                52.0       1274.0           235.0   \n",
       "4    -122.25     37.85                52.0       1627.0           280.0   \n",
       "\n",
       "   population  households  median_income  median_house_value ocean_proximity  \n",
       "0       322.0       126.0         8.3252            452600.0        NEAR BAY  \n",
       "1      2401.0      1138.0         8.3014            358500.0        NEAR BAY  \n",
       "2       496.0       177.0         7.2574            352100.0        NEAR BAY  \n",
       "3       558.0       219.0         5.6431            341300.0        NEAR BAY  \n",
       "4       565.0       259.0         3.8462            342200.0        NEAR BAY  "
      ]
     },
     "execution_count": 18,
     "metadata": {},
     "output_type": "execute_result"
    }
   ],
   "source": [
    "df.limit(5).toPandas()"
   ]
  },
  {
   "cell_type": "code",
   "execution_count": 19,
   "id": "087e03c6",
   "metadata": {},
   "outputs": [
    {
     "name": "stderr",
     "output_type": "stream",
     "text": [
      "                                                                                \r"
     ]
    },
    {
     "name": "stdout",
     "output_type": "stream",
     "text": [
      "-RECORD 0---------------------------------\n",
      " summary            | count               \n",
      " longitude          | 20640               \n",
      " latitude           | 20640               \n",
      " housing_median_age | 20640               \n",
      " total_rooms        | 20640               \n",
      " total_bedrooms     | 20433               \n",
      " population         | 20640               \n",
      " households         | 20640               \n",
      " median_income      | 20640               \n",
      " median_house_value | 20640               \n",
      " ocean_proximity    | 20640               \n",
      "-RECORD 1---------------------------------\n",
      " summary            | mean                \n",
      " longitude          | -119.56970445736148 \n",
      " latitude           | 35.6318614341087    \n",
      " housing_median_age | 28.639486434108527  \n",
      " total_rooms        | 2635.7630813953488  \n",
      " total_bedrooms     | 537.8705525375618   \n",
      " population         | 1425.4767441860465  \n",
      " households         | 499.5396802325581   \n",
      " median_income      | 3.8706710029070246  \n",
      " median_house_value | 206855.81690891474  \n",
      " ocean_proximity    | null                \n",
      "-RECORD 2---------------------------------\n",
      " summary            | stddev              \n",
      " longitude          | 2.003531723502584   \n",
      " latitude           | 2.135952397457101   \n",
      " housing_median_age | 12.58555761211163   \n",
      " total_rooms        | 2181.6152515827944  \n",
      " total_bedrooms     | 421.38507007403115  \n",
      " population         | 1132.46212176534    \n",
      " households         | 382.3297528316098   \n",
      " median_income      | 1.899821717945263   \n",
      " median_house_value | 115395.61587441359  \n",
      " ocean_proximity    | null                \n",
      "-RECORD 3---------------------------------\n",
      " summary            | min                 \n",
      " longitude          | -124.35             \n",
      " latitude           | 32.54               \n",
      " housing_median_age | 1.0                 \n",
      " total_rooms        | 2.0                 \n",
      " total_bedrooms     | 1.0                 \n",
      " population         | 3.0                 \n",
      " households         | 1.0                 \n",
      " median_income      | 0.4999              \n",
      " median_house_value | 14999.0             \n",
      " ocean_proximity    | <1H OCEAN           \n",
      "-RECORD 4---------------------------------\n",
      " summary            | max                 \n",
      " longitude          | -114.31             \n",
      " latitude           | 41.95               \n",
      " housing_median_age | 52.0                \n",
      " total_rooms        | 39320.0             \n",
      " total_bedrooms     | 6445.0              \n",
      " population         | 35682.0             \n",
      " households         | 6082.0              \n",
      " median_income      | 15.0001             \n",
      " median_house_value | 500001.0            \n",
      " ocean_proximity    | NEAR OCEAN          \n",
      "\n"
     ]
    }
   ],
   "source": [
    "# получение сводки числовых значений данных в датафрейме\n",
    "df.describe().show(vertical=True)"
   ]
  },
  {
   "cell_type": "markdown",
   "id": "eeed62b1",
   "metadata": {},
   "source": [
    "**Исходные данные:**"
   ]
  },
  {
   "cell_type": "markdown",
   "id": "75adc4da",
   "metadata": {},
   "source": [
    "В колонках датасета `housing` содержатся следующие данные:"
   ]
  },
  {
   "cell_type": "markdown",
   "id": "7dcf9bdf",
   "metadata": {},
   "source": [
    "* *longitude* — широта;\n",
    "* *latitude* — долгота;\n",
    "* *housing_median_age* — медианный возраст жителей жилого массива;\n",
    "* *total_rooms* — общее количество комнат в домах жилого массива;\n",
    "* *total_bedrooms* — общее количество спален в домах жилого массива;\n",
    "* *population* — количество человек, которые проживают в жилом массиве;\n",
    "* *households* — количество домовладений в жилом массиве;\n",
    "* *median_income* — медианный доход жителей жилого массива;\n",
    "* *median_house_value* — медианная стоимость дома в жилом массиве;\n",
    "* *ocean_proximity* — близость к океану."
   ]
  },
  {
   "cell_type": "markdown",
   "id": "9d9b35a5",
   "metadata": {},
   "source": [
    "Проанализируем полученную информацию. Датасет содержит 10 колонок с типами данных:\n",
    "* `double`\n",
    "* `string`"
   ]
  },
  {
   "cell_type": "markdown",
   "id": "d5547c28",
   "metadata": {},
   "source": [
    "Данные представлены числовыми и категориальными признаками. В колонке `total_bedrooms` содержатся пропуски. В названиях колонок использован стиль наименования переменных *lower_case_with_underscores*. В наименованиях отсутствуют нарушения стиля. Аномальных значений в сводке числовых данных не обнаружено."
   ]
  },
  {
   "cell_type": "markdown",
   "id": "5ad4fe69",
   "metadata": {},
   "source": [
    "Необходимо обработать пропущенные значения в столбце `total_bedrooms`. Заполним их с помощью медианного коэффициента соотношения количества спален в жилом массиве к общему количеству комнат в жилом массиве."
   ]
  },
  {
   "cell_type": "code",
   "execution_count": 20,
   "id": "16e7c412",
   "metadata": {},
   "outputs": [
    {
     "name": "stdout",
     "output_type": "stream",
     "text": [
      "-RECORD 0---------------------------------\n",
      " longitude          | -122.23             \n",
      " latitude           | 37.88               \n",
      " housing_median_age | 41.0                \n",
      " total_rooms        | 880.0               \n",
      " total_bedrooms     | 129.0               \n",
      " population         | 322.0               \n",
      " households         | 126.0               \n",
      " median_income      | 8.3252              \n",
      " median_house_value | 452600.0            \n",
      " ocean_proximity    | NEAR BAY            \n",
      " coef               | 0.14659090909090908 \n",
      "-RECORD 1---------------------------------\n",
      " longitude          | -122.22             \n",
      " latitude           | 37.86               \n",
      " housing_median_age | 21.0                \n",
      " total_rooms        | 7099.0              \n",
      " total_bedrooms     | 1106.0              \n",
      " population         | 2401.0              \n",
      " households         | 1138.0              \n",
      " median_income      | 8.3014              \n",
      " median_house_value | 358500.0            \n",
      " ocean_proximity    | NEAR BAY            \n",
      " coef               | 0.15579659106916466 \n",
      "-RECORD 2---------------------------------\n",
      " longitude          | -122.24             \n",
      " latitude           | 37.85               \n",
      " housing_median_age | 52.0                \n",
      " total_rooms        | 1467.0              \n",
      " total_bedrooms     | 190.0               \n",
      " population         | 496.0               \n",
      " households         | 177.0               \n",
      " median_income      | 7.2574              \n",
      " median_house_value | 352100.0            \n",
      " ocean_proximity    | NEAR BAY            \n",
      " coef               | 0.12951601908657123 \n",
      "-RECORD 3---------------------------------\n",
      " longitude          | -122.25             \n",
      " latitude           | 37.85               \n",
      " housing_median_age | 52.0                \n",
      " total_rooms        | 1274.0              \n",
      " total_bedrooms     | 235.0               \n",
      " population         | 558.0               \n",
      " households         | 219.0               \n",
      " median_income      | 5.6431              \n",
      " median_house_value | 341300.0            \n",
      " ocean_proximity    | NEAR BAY            \n",
      " coef               | 0.18445839874411302 \n",
      "-RECORD 4---------------------------------\n",
      " longitude          | -122.25             \n",
      " latitude           | 37.85               \n",
      " housing_median_age | 52.0                \n",
      " total_rooms        | 1627.0              \n",
      " total_bedrooms     | 280.0               \n",
      " population         | 565.0               \n",
      " households         | 259.0               \n",
      " median_income      | 3.8462              \n",
      " median_house_value | 342200.0            \n",
      " ocean_proximity    | NEAR BAY            \n",
      " coef               | 0.1720958819913952  \n",
      "only showing top 5 rows\n",
      "\n"
     ]
    }
   ],
   "source": [
    "# создание колонки со вспомогательным коеффициентом\n",
    "df_coef = df.withColumn('coef', F.column('total_bedrooms')/F.column('total_rooms'))\n",
    "df_coef.show(5, vertical=True)"
   ]
  },
  {
   "cell_type": "code",
   "execution_count": 21,
   "id": "e267c467",
   "metadata": {},
   "outputs": [
    {
     "name": "stderr",
     "output_type": "stream",
     "text": [
      "                                                                                \r"
     ]
    },
    {
     "name": "stdout",
     "output_type": "stream",
     "text": [
      "0.203\n"
     ]
    }
   ],
   "source": [
    "# расчёт медианного коэффициента\n",
    "coef_list =  df_coef.select('coef').collect()\n",
    "coef_array = [row.coef for row in coef_list]\n",
    "coef_array = [value for value in coef_array if value not in [None, np.nan]]\n",
    "median_coef = round(np.median(coef_array), 3)\n",
    "print(median_coef)"
   ]
  },
  {
   "cell_type": "code",
   "execution_count": 22,
   "id": "2eecac8c",
   "metadata": {},
   "outputs": [],
   "source": [
    "# расчёт нового столбца с количеством спален с помощью медианного коэффициента\n",
    "df_housing = df_coef.withColumn('total_bedrooms_', \n",
    "                                    when(F.col('total_bedrooms').isNull(), F.col('total_rooms') * 0.203) \\\n",
    "                                        .otherwise(F.col('total_bedrooms')))"
   ]
  },
  {
   "cell_type": "code",
   "execution_count": 23,
   "id": "0f6eee29",
   "metadata": {
    "scrolled": true
   },
   "outputs": [
    {
     "name": "stdout",
     "output_type": "stream",
     "text": [
      "-RECORD 0-----------------\n",
      " longitude          | 0   \n",
      " latitude           | 0   \n",
      " housing_median_age | 0   \n",
      " total_rooms        | 0   \n",
      " total_bedrooms     | 207 \n",
      " population         | 0   \n",
      " households         | 0   \n",
      " median_income      | 0   \n",
      " median_house_value | 0   \n",
      " ocean_proximity    | 0   \n",
      " coef               | 207 \n",
      " total_bedrooms_    | 0   \n",
      "\n"
     ]
    }
   ],
   "source": [
    "# проверка на наличие пропусков\n",
    "df_housing.select(*(F.sum(F.col(c).isNull().cast(\"int\")).alias(c) for c in df_housing.columns)).show(vertical=True)"
   ]
  },
  {
   "cell_type": "markdown",
   "id": "e9c31698",
   "metadata": {},
   "source": [
    "В новой колонке `total_bedrooms_` пропусков не имеется. Колонки `coef`, `total_bedrooms` удалим, т.к. они больше не нужны."
   ]
  },
  {
   "cell_type": "code",
   "execution_count": 24,
   "id": "5ef06d89",
   "metadata": {},
   "outputs": [],
   "source": [
    "# удаление столбцов\n",
    "df_housing = df_housing.drop('total_bedrooms', 'coef')"
   ]
  },
  {
   "cell_type": "code",
   "execution_count": 25,
   "id": "6c3dece0",
   "metadata": {},
   "outputs": [
    {
     "name": "stdout",
     "output_type": "stream",
     "text": [
      "-RECORD 0----------------------\n",
      " longitude          | -122.23  \n",
      " latitude           | 37.88    \n",
      " housing_median_age | 41.0     \n",
      " total_rooms        | 880.0    \n",
      " population         | 322.0    \n",
      " households         | 126.0    \n",
      " median_income      | 8.3252   \n",
      " median_house_value | 452600.0 \n",
      " ocean_proximity    | NEAR BAY \n",
      " total_bedrooms_    | 129.0    \n",
      "-RECORD 1----------------------\n",
      " longitude          | -122.22  \n",
      " latitude           | 37.86    \n",
      " housing_median_age | 21.0     \n",
      " total_rooms        | 7099.0   \n",
      " population         | 2401.0   \n",
      " households         | 1138.0   \n",
      " median_income      | 8.3014   \n",
      " median_house_value | 358500.0 \n",
      " ocean_proximity    | NEAR BAY \n",
      " total_bedrooms_    | 1106.0   \n",
      "-RECORD 2----------------------\n",
      " longitude          | -122.24  \n",
      " latitude           | 37.85    \n",
      " housing_median_age | 52.0     \n",
      " total_rooms        | 1467.0   \n",
      " population         | 496.0    \n",
      " households         | 177.0    \n",
      " median_income      | 7.2574   \n",
      " median_house_value | 352100.0 \n",
      " ocean_proximity    | NEAR BAY \n",
      " total_bedrooms_    | 190.0    \n",
      "-RECORD 3----------------------\n",
      " longitude          | -122.25  \n",
      " latitude           | 37.85    \n",
      " housing_median_age | 52.0     \n",
      " total_rooms        | 1274.0   \n",
      " population         | 558.0    \n",
      " households         | 219.0    \n",
      " median_income      | 5.6431   \n",
      " median_house_value | 341300.0 \n",
      " ocean_proximity    | NEAR BAY \n",
      " total_bedrooms_    | 235.0    \n",
      "-RECORD 4----------------------\n",
      " longitude          | -122.25  \n",
      " latitude           | 37.85    \n",
      " housing_median_age | 52.0     \n",
      " total_rooms        | 1627.0   \n",
      " population         | 565.0    \n",
      " households         | 259.0    \n",
      " median_income      | 3.8462   \n",
      " median_house_value | 342200.0 \n",
      " ocean_proximity    | NEAR BAY \n",
      " total_bedrooms_    | 280.0    \n",
      "only showing top 5 rows\n",
      "\n"
     ]
    }
   ],
   "source": [
    "# просмотр первых пяти строк\n",
    "df_housing.show(5, vertical=True)"
   ]
  },
  {
   "cell_type": "markdown",
   "id": "f70a9c0f",
   "metadata": {},
   "source": [
    "Далее переходим к подготовке признаков датасета для последующей их передачи модели машинного обучения. В отдельные списки выделим категориальные, количественный признаки и целевой признак."
   ]
  },
  {
   "cell_type": "code",
   "execution_count": 26,
   "id": "4315e286",
   "metadata": {},
   "outputs": [],
   "source": [
    "# признаки\n",
    "categorical_cols = 'ocean_proximity'\n",
    "numerical_cols  = ['longitude', 'latitude', 'housing_median_age', 'total_rooms', 'population',\n",
    "                   'households','median_income', 'total_bedrooms_']\n",
    "# целевой признак\n",
    "target = 'median_house_value' "
   ]
  },
  {
   "cell_type": "markdown",
   "id": "9a650d10",
   "metadata": {},
   "source": [
    "Трансформируем категориальные признаки с помощью трансформера *StringIndexer*, а затем дополнительно применим трансфомер *OneHotEncoder*."
   ]
  },
  {
   "cell_type": "code",
   "execution_count": 27,
   "id": "0a12ed7c",
   "metadata": {},
   "outputs": [
    {
     "name": "stderr",
     "output_type": "stream",
     "text": [
      "                                                                                \r"
     ]
    },
    {
     "name": "stdout",
     "output_type": "stream",
     "text": [
      "+---------------+-------------------+\n",
      "|ocean_proximity|ocean_proximity_idx|\n",
      "+---------------+-------------------+\n",
      "|       NEAR BAY|                3.0|\n",
      "|       NEAR BAY|                3.0|\n",
      "|       NEAR BAY|                3.0|\n",
      "+---------------+-------------------+\n",
      "only showing top 3 rows\n",
      "\n"
     ]
    }
   ],
   "source": [
    "# трансформация категориального признака с помощью StringIndexer\n",
    "indexer = StringIndexer(inputCols=['ocean_proximity'], \n",
    "                        outputCols=['ocean_proximity_idx']) \n",
    "df_housing = indexer.fit(df_housing).transform(df_housing)\n",
    "\n",
    "cols = ['ocean_proximity', 'ocean_proximity_idx']\n",
    "df_housing.select(cols).show(3) "
   ]
  },
  {
   "cell_type": "code",
   "execution_count": 28,
   "id": "d4fefb1c",
   "metadata": {},
   "outputs": [
    {
     "name": "stdout",
     "output_type": "stream",
     "text": [
      "+---------------+-------------------+-------------------+\n",
      "|ocean_proximity|ocean_proximity_idx|ocean_proximity_ohe|\n",
      "+---------------+-------------------+-------------------+\n",
      "|       NEAR BAY|                3.0|      (4,[3],[1.0])|\n",
      "|       NEAR BAY|                3.0|      (4,[3],[1.0])|\n",
      "|       NEAR BAY|                3.0|      (4,[3],[1.0])|\n",
      "+---------------+-------------------+-------------------+\n",
      "only showing top 3 rows\n",
      "\n"
     ]
    }
   ],
   "source": [
    "# трансформация категориального признака с помощью OneHotEncoder\n",
    "encoder = OneHotEncoder(inputCols=['ocean_proximity_idx'],\n",
    "                        outputCols=['ocean_proximity_ohe'])\n",
    "df_housing = encoder.fit(df_housing).transform(df_housing)\n",
    "\n",
    "cols = ['ocean_proximity', 'ocean_proximity_idx', 'ocean_proximity_ohe']\n",
    "df_housing.select(cols).show(3) "
   ]
  },
  {
   "cell_type": "markdown",
   "id": "358f6c87",
   "metadata": {},
   "source": [
    "Далее представим признаки в виде векторов для последующей передачи модели машинного обучения."
   ]
  },
  {
   "cell_type": "code",
   "execution_count": 29,
   "id": "c9430f00",
   "metadata": {},
   "outputs": [],
   "source": [
    "# векторизация категориального признака\n",
    "categorical_assembler = VectorAssembler(inputCols=['ocean_proximity_ohe'], outputCol='categorical_features')\n",
    "df_housing = categorical_assembler.transform(df_housing) "
   ]
  },
  {
   "cell_type": "code",
   "execution_count": 30,
   "id": "e3af4b8e",
   "metadata": {
    "scrolled": true
   },
   "outputs": [],
   "source": [
    "# векторизация численных признаков\n",
    "numerical_assembler = VectorAssembler(inputCols=numerical_cols, outputCol='numerical_features')\n",
    "df_housing = numerical_assembler.transform(df_housing) "
   ]
  },
  {
   "cell_type": "markdown",
   "id": "d777c41c",
   "metadata": {},
   "source": [
    "Стандартизируем численные признаки так, чтобы выбросы не искажали общей картины.Будет использовать трансформер *StandardScaler*."
   ]
  },
  {
   "cell_type": "code",
   "execution_count": 31,
   "id": "a6feb781",
   "metadata": {},
   "outputs": [
    {
     "name": "stderr",
     "output_type": "stream",
     "text": [
      "                                                                                \r"
     ]
    }
   ],
   "source": [
    "# стандартизация\n",
    "standardScaler = StandardScaler(inputCol='numerical_features', outputCol='numerical_features_scaled')\n",
    "df_housing = standardScaler.fit(df_housing).transform(df_housing) "
   ]
  },
  {
   "cell_type": "code",
   "execution_count": 32,
   "id": "316af612",
   "metadata": {
    "scrolled": true
   },
   "outputs": [
    {
     "name": "stdout",
     "output_type": "stream",
     "text": [
      "root\n",
      " |-- longitude: double (nullable = true)\n",
      " |-- latitude: double (nullable = true)\n",
      " |-- housing_median_age: double (nullable = true)\n",
      " |-- total_rooms: double (nullable = true)\n",
      " |-- population: double (nullable = true)\n",
      " |-- households: double (nullable = true)\n",
      " |-- median_income: double (nullable = true)\n",
      " |-- median_house_value: double (nullable = true)\n",
      " |-- ocean_proximity: string (nullable = true)\n",
      " |-- total_bedrooms_: double (nullable = true)\n",
      " |-- ocean_proximity_idx: double (nullable = false)\n",
      " |-- ocean_proximity_ohe: vector (nullable = true)\n",
      " |-- categorical_features: vector (nullable = true)\n",
      " |-- numerical_features: vector (nullable = true)\n",
      " |-- numerical_features_scaled: vector (nullable = true)\n",
      "\n"
     ]
    }
   ],
   "source": [
    "# вывод столбцов и их типов данных\n",
    "df_housing.printSchema()"
   ]
  },
  {
   "cell_type": "markdown",
   "id": "025d826e",
   "metadata": {},
   "source": [
    "Опробуем два набора даннных: один будет содержать только количественные признаки, другой — и количественные, и категориальный. На этих наборах данных обучим модель и сравним полученные результаты."
   ]
  },
  {
   "cell_type": "code",
   "execution_count": 33,
   "id": "7f008acf",
   "metadata": {
    "scrolled": true
   },
   "outputs": [],
   "source": [
    "# создание двух наборов данных\n",
    "all_features = ['categorical_features', 'numerical_features_scaled']\n",
    "\n",
    "# датасет с категориальным признаком\n",
    "final_assembler_cat = VectorAssembler(inputCols=all_features, outputCol='features') \n",
    "df_with_categorical = final_assembler_cat.transform(df_housing)\n",
    "\n",
    "# датасет без категориального признака\n",
    "df_without_categorical = df_housing.select('numerical_features_scaled', 'median_house_value')\n",
    "df_without_categorical = df_without_categorical.selectExpr('numerical_features_scaled as features', 'median_house_value as median_house_value')"
   ]
  },
  {
   "cell_type": "code",
   "execution_count": 34,
   "id": "735cb63b",
   "metadata": {
    "scrolled": true
   },
   "outputs": [
    {
     "name": "stdout",
     "output_type": "stream",
     "text": [
      "-RECORD 0-----------------------------------------\n",
      " longitude                 | -122.23              \n",
      " latitude                  | 37.88                \n",
      " housing_median_age        | 41.0                 \n",
      " total_rooms               | 880.0                \n",
      " population                | 322.0                \n",
      " households                | 126.0                \n",
      " median_income             | 8.3252               \n",
      " median_house_value        | 452600.0             \n",
      " ocean_proximity           | NEAR BAY             \n",
      " total_bedrooms_           | 129.0                \n",
      " ocean_proximity_idx       | 3.0                  \n",
      " ocean_proximity_ohe       | (4,[3],[1.0])        \n",
      " categorical_features      | (4,[3],[1.0])        \n",
      " numerical_features        | [-122.23,37.88,41... \n",
      " numerical_features_scaled | [-61.007269596069... \n",
      " features                  | [0.0,0.0,0.0,1.0,... \n",
      "-RECORD 1-----------------------------------------\n",
      " longitude                 | -122.22              \n",
      " latitude                  | 37.86                \n",
      " housing_median_age        | 21.0                 \n",
      " total_rooms               | 7099.0               \n",
      " population                | 2401.0               \n",
      " households                | 1138.0               \n",
      " median_income             | 8.3014               \n",
      " median_house_value        | 358500.0             \n",
      " ocean_proximity           | NEAR BAY             \n",
      " total_bedrooms_           | 1106.0               \n",
      " ocean_proximity_idx       | 3.0                  \n",
      " ocean_proximity_ohe       | (4,[3],[1.0])        \n",
      " categorical_features      | (4,[3],[1.0])        \n",
      " numerical_features        | [-122.22,37.86,21... \n",
      " numerical_features_scaled | [-61.002278409814... \n",
      " features                  | [0.0,0.0,0.0,1.0,... \n",
      "-RECORD 2-----------------------------------------\n",
      " longitude                 | -122.24              \n",
      " latitude                  | 37.85                \n",
      " housing_median_age        | 52.0                 \n",
      " total_rooms               | 1467.0               \n",
      " population                | 496.0                \n",
      " households                | 177.0                \n",
      " median_income             | 7.2574               \n",
      " median_house_value        | 352100.0             \n",
      " ocean_proximity           | NEAR BAY             \n",
      " total_bedrooms_           | 190.0                \n",
      " ocean_proximity_idx       | 3.0                  \n",
      " ocean_proximity_ohe       | (4,[3],[1.0])        \n",
      " categorical_features      | (4,[3],[1.0])        \n",
      " numerical_features        | [-122.24,37.85,52... \n",
      " numerical_features_scaled | [-61.012260782324... \n",
      " features                  | [0.0,0.0,0.0,1.0,... \n",
      "-RECORD 3-----------------------------------------\n",
      " longitude                 | -122.25              \n",
      " latitude                  | 37.85                \n",
      " housing_median_age        | 52.0                 \n",
      " total_rooms               | 1274.0               \n",
      " population                | 558.0                \n",
      " households                | 219.0                \n",
      " median_income             | 5.6431               \n",
      " median_house_value        | 341300.0             \n",
      " ocean_proximity           | NEAR BAY             \n",
      " total_bedrooms_           | 235.0                \n",
      " ocean_proximity_idx       | 3.0                  \n",
      " ocean_proximity_ohe       | (4,[3],[1.0])        \n",
      " categorical_features      | (4,[3],[1.0])        \n",
      " numerical_features        | [-122.25,37.85,52... \n",
      " numerical_features_scaled | [-61.017251968579... \n",
      " features                  | [0.0,0.0,0.0,1.0,... \n",
      "-RECORD 4-----------------------------------------\n",
      " longitude                 | -122.25              \n",
      " latitude                  | 37.85                \n",
      " housing_median_age        | 52.0                 \n",
      " total_rooms               | 1627.0               \n",
      " population                | 565.0                \n",
      " households                | 259.0                \n",
      " median_income             | 3.8462               \n",
      " median_house_value        | 342200.0             \n",
      " ocean_proximity           | NEAR BAY             \n",
      " total_bedrooms_           | 280.0                \n",
      " ocean_proximity_idx       | 3.0                  \n",
      " ocean_proximity_ohe       | (4,[3],[1.0])        \n",
      " categorical_features      | (4,[3],[1.0])        \n",
      " numerical_features        | [-122.25,37.85,52... \n",
      " numerical_features_scaled | [-61.017251968579... \n",
      " features                  | [0.0,0.0,0.0,1.0,... \n",
      "only showing top 5 rows\n",
      "\n"
     ]
    }
   ],
   "source": [
    "# просмотр первых пяти строк датасета\n",
    "df_with_categorical.show(5, vertical=True)"
   ]
  },
  {
   "cell_type": "code",
   "execution_count": 35,
   "id": "15eaf881",
   "metadata": {
    "scrolled": true
   },
   "outputs": [
    {
     "name": "stdout",
     "output_type": "stream",
     "text": [
      "-RECORD 0----------------------------------\n",
      " features           | [-61.007269596069... \n",
      " median_house_value | 452600.0             \n",
      "-RECORD 1----------------------------------\n",
      " features           | [-61.002278409814... \n",
      " median_house_value | 358500.0             \n",
      "-RECORD 2----------------------------------\n",
      " features           | [-61.012260782324... \n",
      " median_house_value | 352100.0             \n",
      "-RECORD 3----------------------------------\n",
      " features           | [-61.017251968579... \n",
      " median_house_value | 341300.0             \n",
      "-RECORD 4----------------------------------\n",
      " features           | [-61.017251968579... \n",
      " median_house_value | 342200.0             \n",
      "only showing top 5 rows\n",
      "\n"
     ]
    }
   ],
   "source": [
    "# просмотр первых пяти строк датасета\n",
    "df_without_categorical.show(5, vertical=True)"
   ]
  },
  {
   "cell_type": "markdown",
   "id": "79fd1f0e",
   "metadata": {},
   "source": [
    "**Вывод:**"
   ]
  },
  {
   "cell_type": "markdown",
   "id": "84de538e",
   "metadata": {},
   "source": [
    "Данные предобработаны и подготовлены к обучению."
   ]
  },
  {
   "cell_type": "markdown",
   "id": "9f0a82f3",
   "metadata": {
    "id": "9f0a82f3"
   },
   "source": [
    "## Обучение моделей"
   ]
  },
  {
   "cell_type": "markdown",
   "id": "52863775",
   "metadata": {},
   "source": [
    "Для обучения будем использовать модель машинного обучения *LinearRegression()*."
   ]
  },
  {
   "cell_type": "markdown",
   "id": "323c9da4",
   "metadata": {},
   "source": [
    "Разделим наборы данных на обучающие и тестовые выборки."
   ]
  },
  {
   "cell_type": "code",
   "execution_count": 36,
   "id": "bddb08c4",
   "metadata": {
    "id": "bddb08c4"
   },
   "outputs": [],
   "source": [
    "# разделение датасетов на выборки\n",
    "train_data_cat, test_data_cat = df_with_categorical.randomSplit([.8,.2], seed=12345)\n",
    "train_data, test_data = df_without_categorical.randomSplit([.8,.2], seed=12345)"
   ]
  },
  {
   "cell_type": "markdown",
   "id": "d960970f",
   "metadata": {},
   "source": [
    "Инициализируем модель линейной регрессии, обучим её на двух наборах данных и сравним получившиеся метрики качества: *MAE*, *RMSE*, *R2*. Метрики качества выведем с помощью метода *summary*."
   ]
  },
  {
   "cell_type": "code",
   "execution_count": 37,
   "id": "130bc6c7",
   "metadata": {},
   "outputs": [],
   "source": [
    "# инициализация модели линейной регрессии\n",
    "lr = LinearRegression(labelCol=target, featuresCol='features').setRegParam(0.3)"
   ]
  },
  {
   "cell_type": "code",
   "execution_count": 38,
   "id": "05380c03",
   "metadata": {},
   "outputs": [
    {
     "name": "stderr",
     "output_type": "stream",
     "text": [
      "22/06/04 21:21:59 WARN BLAS: Failed to load implementation from: com.github.fommil.netlib.NativeSystemBLAS\n",
      "22/06/04 21:21:59 WARN BLAS: Failed to load implementation from: com.github.fommil.netlib.NativeRefBLAS\n",
      "22/06/04 21:21:59 WARN LAPACK: Failed to load implementation from: com.github.fommil.netlib.NativeSystemLAPACK\n",
      "22/06/04 21:21:59 WARN LAPACK: Failed to load implementation from: com.github.fommil.netlib.NativeRefLAPACK\n",
      "[Stage 31:>                                                         (0 + 1) / 1]\r"
     ]
    },
    {
     "name": "stdout",
     "output_type": "stream",
     "text": [
      "Метрики качества для модели с количественными признаками и категориальным\n",
      "MAE = 50014.58\n",
      "RMSE = 68870.31\n",
      "R2 = 0.643\n"
     ]
    },
    {
     "name": "stderr",
     "output_type": "stream",
     "text": [
      "                                                                                \r"
     ]
    }
   ],
   "source": [
    "# обучение модели и получение предсказаний для набора с категориальным и количественными признаками\n",
    "model_cat = lr.fit(train_data_cat)\n",
    "print('Метрики качества для модели с количественными признаками и категориальным')\n",
    "print(f'MAE = {round(model_cat.summary.meanAbsoluteError, 2)}\\nRMSE = {round(model_cat.summary.rootMeanSquaredError, 2)}\\nR2 = {round(model_cat.summary.r2, 3)}')"
   ]
  },
  {
   "cell_type": "code",
   "execution_count": 39,
   "id": "092f7b01",
   "metadata": {},
   "outputs": [
    {
     "name": "stderr",
     "output_type": "stream",
     "text": [
      "[Stage 35:>                                                         (0 + 1) / 1]\r"
     ]
    },
    {
     "name": "stdout",
     "output_type": "stream",
     "text": [
      "Метрики качества для модели с количественными признаками и категориальным\n",
      "MAE = 51060.59\n",
      "RMSE = 69751.47\n",
      "R2 = 0.634\n"
     ]
    },
    {
     "name": "stderr",
     "output_type": "stream",
     "text": [
      "                                                                                \r"
     ]
    }
   ],
   "source": [
    "# обучение модели и получение предсказаний для набора с количественными признаками\n",
    "model = lr.fit(train_data)\n",
    "print('Метрики качества для модели с количественными признаками и категориальным')\n",
    "print(f'MAE = {round(model.summary.meanAbsoluteError, 2)}\\nRMSE = {round(model.summary.rootMeanSquaredError, 2)}\\nR2 = {round(model.summary.r2, 3)}')"
   ]
  },
  {
   "cell_type": "markdown",
   "id": "7bf4d85a",
   "metadata": {},
   "source": [
    "Модель, обученная на данных с категориальным и количественными признаки, показала себя лучше. Остановим свой выбор на этой модели и оценим её качество на тестовой выборке."
   ]
  },
  {
   "cell_type": "markdown",
   "id": "a05fe76c",
   "metadata": {},
   "source": [
    "Выведем предсказания выбранной модели на тестовой выборке."
   ]
  },
  {
   "cell_type": "code",
   "execution_count": 26,
   "id": "7e4ccf0f",
   "metadata": {},
   "outputs": [
    {
     "name": "stdout",
     "output_type": "stream",
     "text": [
      "+------------------+------------------+\n",
      "|median_house_value|        prediction|\n",
      "+------------------+------------------+\n",
      "|          106700.0|215298.48617040692|\n",
      "|          128900.0|  206450.312654607|\n",
      "|          116100.0|231953.21266054967|\n",
      "|           70500.0|161473.50755597558|\n",
      "|           85600.0|186545.82507112948|\n",
      "|           75500.0| 136330.3722085934|\n",
      "|           79600.0|159894.33202837314|\n",
      "|           92800.0|207100.82789575215|\n",
      "|           97300.0|167092.13752041198|\n",
      "|           82100.0|157800.22956366977|\n",
      "|          126900.0|156428.79883326683|\n",
      "|          119400.0|170070.58750063134|\n",
      "|           71300.0|  169287.816466094|\n",
      "|           75600.0| 148284.2972684563|\n",
      "|           98800.0|165828.17444015061|\n",
      "|           92600.0| 150725.4490463403|\n",
      "|          152700.0|140671.83437411208|\n",
      "|          150000.0|157081.52844457794|\n",
      "|           74000.0|160147.45563937305|\n",
      "|           82400.0| 163682.7567857164|\n",
      "+------------------+------------------+\n",
      "only showing top 20 rows\n",
      "\n"
     ]
    }
   ],
   "source": [
    "# получение предсказаний для набора с категориальным и количественными признаками\n",
    "predictions_cat = model_cat.transform(test_data_cat)\n",
    "predictedLabes_cat = predictions_cat.select('median_house_value', 'prediction')\n",
    "predictedLabes_cat.show()"
   ]
  },
  {
   "cell_type": "markdown",
   "id": "996af45b",
   "metadata": {},
   "source": [
    "С помощью трансформера *RegressionEvaluator()* посмотриv на метрики *MAE*, *RMSE*, *R2*."
   ]
  },
  {
   "cell_type": "code",
   "execution_count": 27,
   "id": "9f675b28",
   "metadata": {},
   "outputs": [
    {
     "name": "stderr",
     "output_type": "stream",
     "text": [
      "                                                                                \r"
     ]
    },
    {
     "name": "stdout",
     "output_type": "stream",
     "text": [
      "Метрики качества для модели с количественными признаками и категориальным\n",
      "MAE = 49051.03\n",
      "RMSE = 67716.81\n",
      "R2 = 0.66\n"
     ]
    }
   ],
   "source": [
    "# вывод метрик качества тестовой выборки\n",
    "metric_value = []\n",
    "metrics = ['mae', 'rmse', 'r2']\n",
    "evaluator = RegressionEvaluator()\n",
    "evaluator.setLabelCol('median_house_value')\n",
    "\n",
    "for metric in metrics:\n",
    "    metric_value.append(round(evaluator.evaluate(predictedLabes_cat, {evaluator.metricName: metric}), 2))\n",
    "\n",
    "print('Метрики качества для модели с количественными признаками и категориальным')\n",
    "print(f'MAE = {metric_value[0]}\\nRMSE = {metric_value[1]}\\nR2 = {metric_value[2]}')             "
   ]
  },
  {
   "cell_type": "code",
   "execution_count": 28,
   "id": "434169f6",
   "metadata": {},
   "outputs": [
    {
     "data": {
      "text/plain": [
       "<bound method SparkSession.stop of <pyspark.sql.session.SparkSession object at 0x7f5d879c9220>>"
      ]
     },
     "execution_count": 28,
     "metadata": {},
     "output_type": "execute_result"
    }
   ],
   "source": [
    "# закрываем pySpark сессию\n",
    "spark.stop"
   ]
  },
  {
   "cell_type": "markdown",
   "id": "d75f7da3",
   "metadata": {},
   "source": [
    "**Вывод:**"
   ]
  },
  {
   "cell_type": "markdown",
   "id": "19885253",
   "metadata": {},
   "source": [
    "Модели обучены, отобрана лучшая модель, метрики качества для оценки получены."
   ]
  },
  {
   "cell_type": "markdown",
   "id": "757fd103",
   "metadata": {
    "id": "757fd103"
   },
   "source": [
    "# Анализ результатов"
   ]
  },
  {
   "cell_type": "markdown",
   "id": "2301bfc6",
   "metadata": {},
   "source": [
    "В целом алгоритм линейной регрессии *LinearRegression()* показал себя не очень хорошо. Об этом можно судить по метрике *R2*, которая показывает, какое количество дисперсий (данных) покрывает модель. Значение метрики *R2* должно стремиться к 1.0, в данном примере мы получили значение метрики в 0.66. \n",
    "\n",
    "Алгоритм линейной регрессии ведет себя лучше на наборе данных с количественными и категориальными признаками вместе. Метрики MAE, RMSE, R2 у такого алгоритма выше."
   ]
  }
 ],
 "metadata": {
  "ExecuteTimeLog": [
   {
    "duration": 383,
    "start_time": "2022-05-29T09:45:09.883Z"
   },
   {
    "duration": 99,
    "start_time": "2022-05-29T09:45:35.616Z"
   },
   {
    "duration": 17351,
    "start_time": "2022-05-29T09:46:11.596Z"
   },
   {
    "duration": 7563,
    "start_time": "2022-05-29T09:52:24.142Z"
   },
   {
    "duration": 322,
    "start_time": "2022-05-29T09:52:43.659Z"
   },
   {
    "duration": 616,
    "start_time": "2022-05-29T09:53:15.343Z"
   },
   {
    "duration": 732,
    "start_time": "2022-05-29T09:53:27.830Z"
   },
   {
    "duration": 8,
    "start_time": "2022-05-29T09:53:35.626Z"
   },
   {
    "duration": 815,
    "start_time": "2022-05-29T09:53:43.084Z"
   },
   {
    "duration": 899,
    "start_time": "2022-05-29T09:53:45.766Z"
   },
   {
    "duration": 13,
    "start_time": "2022-05-29T09:53:46.667Z"
   },
   {
    "duration": 742,
    "start_time": "2022-05-29T09:54:49.250Z"
   },
   {
    "duration": 421,
    "start_time": "2022-05-29T09:55:22.655Z"
   },
   {
    "duration": 162,
    "start_time": "2022-05-29T09:56:23.606Z"
   },
   {
    "duration": 5,
    "start_time": "2022-05-29T09:58:46.098Z"
   },
   {
    "duration": 79,
    "start_time": "2022-05-29T10:05:30.183Z"
   },
   {
    "duration": 14,
    "start_time": "2022-05-29T10:06:19.355Z"
   },
   {
    "duration": 558,
    "start_time": "2022-05-29T10:06:26.917Z"
   },
   {
    "duration": 298,
    "start_time": "2022-05-29T10:06:30.073Z"
   },
   {
    "duration": 156,
    "start_time": "2022-05-29T10:06:35.365Z"
   },
   {
    "duration": 4,
    "start_time": "2022-05-29T10:06:38.263Z"
   },
   {
    "duration": 4664,
    "start_time": "2022-05-29T10:06:42.541Z"
   },
   {
    "duration": 3553,
    "start_time": "2022-05-29T10:07:28.093Z"
   },
   {
    "duration": 518,
    "start_time": "2022-05-29T10:08:37.419Z"
   },
   {
    "duration": 7,
    "start_time": "2022-05-29T10:08:50.332Z"
   },
   {
    "duration": 11,
    "start_time": "2022-05-29T10:08:55.092Z"
   },
   {
    "duration": 26,
    "start_time": "2022-05-29T10:09:26.671Z"
   },
   {
    "duration": 2880,
    "start_time": "2022-05-29T10:09:30.885Z"
   },
   {
    "duration": 11,
    "start_time": "2022-05-29T10:10:58.842Z"
   },
   {
    "duration": 9,
    "start_time": "2022-05-29T10:11:07.826Z"
   },
   {
    "duration": 39,
    "start_time": "2022-05-29T10:12:27.952Z"
   },
   {
    "duration": 8,
    "start_time": "2022-05-29T10:12:43.443Z"
   },
   {
    "duration": 10,
    "start_time": "2022-05-29T10:13:01.260Z"
   },
   {
    "duration": 561,
    "start_time": "2022-05-29T10:13:14.601Z"
   },
   {
    "duration": 15,
    "start_time": "2022-05-29T10:13:29.255Z"
   },
   {
    "duration": 8,
    "start_time": "2022-05-29T10:14:17.653Z"
   },
   {
    "duration": 8,
    "start_time": "2022-05-29T10:17:33.300Z"
   },
   {
    "duration": 7,
    "start_time": "2022-05-29T10:17:45.424Z"
   },
   {
    "duration": 12,
    "start_time": "2022-05-29T10:17:59.023Z"
   },
   {
    "duration": 20,
    "start_time": "2022-05-29T10:19:14.189Z"
   },
   {
    "duration": 9,
    "start_time": "2022-05-29T10:19:26.976Z"
   },
   {
    "duration": 100,
    "start_time": "2022-05-29T10:19:38.567Z"
   },
   {
    "duration": 154,
    "start_time": "2022-05-29T10:19:45.324Z"
   },
   {
    "duration": 185,
    "start_time": "2022-05-29T10:19:51.289Z"
   },
   {
    "duration": 211,
    "start_time": "2022-05-29T10:19:56.682Z"
   },
   {
    "duration": 176,
    "start_time": "2022-05-29T10:20:01.954Z"
   },
   {
    "duration": 25,
    "start_time": "2022-05-29T10:20:11.596Z"
   },
   {
    "duration": 4,
    "start_time": "2022-05-29T10:25:59.015Z"
   },
   {
    "duration": 7,
    "start_time": "2022-05-29T10:26:06.050Z"
   },
   {
    "duration": 7,
    "start_time": "2022-05-29T10:26:13.369Z"
   },
   {
    "duration": 3,
    "start_time": "2022-05-29T10:26:28.694Z"
   },
   {
    "duration": 8,
    "start_time": "2022-05-29T10:26:39.414Z"
   },
   {
    "duration": 7,
    "start_time": "2022-05-29T10:26:49.540Z"
   },
   {
    "duration": 4,
    "start_time": "2022-05-29T10:26:53.668Z"
   },
   {
    "duration": 3,
    "start_time": "2022-05-29T10:27:03.028Z"
   },
   {
    "duration": 3,
    "start_time": "2022-05-29T10:27:13.881Z"
   },
   {
    "duration": 7,
    "start_time": "2022-05-29T10:27:24.866Z"
   },
   {
    "duration": 4,
    "start_time": "2022-05-29T10:27:41.987Z"
   },
   {
    "duration": 10,
    "start_time": "2022-05-29T10:34:46.144Z"
   },
   {
    "duration": 376,
    "start_time": "2022-05-29T10:35:02.101Z"
   },
   {
    "duration": 903,
    "start_time": "2022-05-29T10:35:43.057Z"
   },
   {
    "duration": 65,
    "start_time": "2022-05-29T10:35:56.415Z"
   },
   {
    "duration": 456,
    "start_time": "2022-05-29T10:36:02.840Z"
   },
   {
    "duration": 394,
    "start_time": "2022-05-29T10:36:31.615Z"
   },
   {
    "duration": 361,
    "start_time": "2022-05-29T10:36:38.867Z"
   },
   {
    "duration": 3,
    "start_time": "2022-05-29T10:37:00.295Z"
   },
   {
    "duration": 2229,
    "start_time": "2022-05-29T10:38:01.458Z"
   },
   {
    "duration": 1318,
    "start_time": "2022-05-29T10:38:12.080Z"
   },
   {
    "duration": 345,
    "start_time": "2022-05-29T10:39:10.845Z"
   },
   {
    "duration": 17,
    "start_time": "2022-05-29T10:57:20.589Z"
   },
   {
    "duration": 201,
    "start_time": "2022-05-29T10:57:39.120Z"
   },
   {
    "duration": 179,
    "start_time": "2022-05-29T10:57:48.080Z"
   },
   {
    "duration": 14,
    "start_time": "2022-05-29T10:58:47.237Z"
   },
   {
    "duration": 28,
    "start_time": "2022-05-29T11:01:14.772Z"
   },
   {
    "duration": 7,
    "start_time": "2022-05-29T11:01:18.570Z"
   },
   {
    "duration": 23,
    "start_time": "2022-05-29T11:03:28.280Z"
   },
   {
    "duration": 12,
    "start_time": "2022-05-29T11:03:35.476Z"
   },
   {
    "duration": 17,
    "start_time": "2022-05-29T11:03:40.195Z"
   },
   {
    "duration": 10,
    "start_time": "2022-05-29T11:03:49.498Z"
   },
   {
    "duration": 16,
    "start_time": "2022-05-29T11:03:53.424Z"
   },
   {
    "duration": 13,
    "start_time": "2022-05-29T11:05:16.843Z"
   },
   {
    "duration": 6,
    "start_time": "2022-05-29T11:05:32.759Z"
   },
   {
    "duration": 17,
    "start_time": "2022-05-29T11:05:43.066Z"
   },
   {
    "duration": 32,
    "start_time": "2022-05-29T11:06:41.009Z"
   },
   {
    "duration": 7,
    "start_time": "2022-05-29T11:06:45.093Z"
   },
   {
    "duration": 10,
    "start_time": "2022-05-29T11:08:04.969Z"
   },
   {
    "duration": 9,
    "start_time": "2022-05-29T11:08:18.065Z"
   },
   {
    "duration": 11,
    "start_time": "2022-05-29T11:11:54.460Z"
   },
   {
    "duration": 8,
    "start_time": "2022-05-29T11:14:58.913Z"
   },
   {
    "duration": 10,
    "start_time": "2022-05-29T11:15:13.886Z"
   },
   {
    "duration": 11,
    "start_time": "2022-05-29T11:15:18.411Z"
   },
   {
    "duration": 9,
    "start_time": "2022-05-29T11:15:26.778Z"
   },
   {
    "duration": 8,
    "start_time": "2022-05-29T11:15:37.607Z"
   },
   {
    "duration": 10,
    "start_time": "2022-05-29T11:17:15.572Z"
   },
   {
    "duration": 160,
    "start_time": "2022-05-29T11:17:29.063Z"
   },
   {
    "duration": 11,
    "start_time": "2022-05-29T11:17:47.397Z"
   },
   {
    "duration": 336,
    "start_time": "2022-05-29T11:27:33.560Z"
   },
   {
    "duration": 203,
    "start_time": "2022-05-29T11:27:48.567Z"
   },
   {
    "duration": 163,
    "start_time": "2022-05-29T11:27:57.398Z"
   },
   {
    "duration": 237,
    "start_time": "2022-05-29T11:28:02.393Z"
   },
   {
    "duration": 199,
    "start_time": "2022-05-29T11:28:23.877Z"
   },
   {
    "duration": 215,
    "start_time": "2022-05-29T11:28:29.477Z"
   },
   {
    "duration": 199,
    "start_time": "2022-05-29T11:28:34.577Z"
   },
   {
    "duration": 222,
    "start_time": "2022-05-29T11:28:40.605Z"
   },
   {
    "duration": 216,
    "start_time": "2022-05-29T11:29:37.263Z"
   },
   {
    "duration": 35,
    "start_time": "2022-05-29T11:30:18.374Z"
   },
   {
    "duration": 154,
    "start_time": "2022-05-29T11:30:24.418Z"
   },
   {
    "duration": 240,
    "start_time": "2022-05-29T11:30:34.280Z"
   },
   {
    "duration": 10,
    "start_time": "2022-05-29T11:31:37.151Z"
   },
   {
    "duration": 92,
    "start_time": "2022-05-29T11:31:39.606Z"
   },
   {
    "duration": 88,
    "start_time": "2022-05-29T11:31:54.628Z"
   },
   {
    "duration": 175,
    "start_time": "2022-05-29T11:32:02.113Z"
   },
   {
    "duration": 420,
    "start_time": "2022-05-29T12:50:28.561Z"
   },
   {
    "duration": 191,
    "start_time": "2022-05-29T12:51:13.498Z"
   },
   {
    "duration": 9,
    "start_time": "2022-05-29T12:51:52.556Z"
   },
   {
    "duration": 9,
    "start_time": "2022-05-29T12:52:49.244Z"
   },
   {
    "duration": 20,
    "start_time": "2022-05-29T12:53:55.785Z"
   },
   {
    "duration": 9,
    "start_time": "2022-05-29T12:54:09.880Z"
   },
   {
    "duration": 7,
    "start_time": "2022-05-29T12:54:34.150Z"
   },
   {
    "duration": 7,
    "start_time": "2022-05-29T12:56:04.380Z"
   },
   {
    "duration": 66,
    "start_time": "2022-05-29T12:56:20.413Z"
   },
   {
    "duration": 5,
    "start_time": "2022-05-29T12:58:08.946Z"
   },
   {
    "duration": 87,
    "start_time": "2022-05-29T12:58:16.595Z"
   },
   {
    "duration": 16,
    "start_time": "2022-05-29T12:58:46.164Z"
   },
   {
    "duration": 4,
    "start_time": "2022-05-29T12:59:18.948Z"
   },
   {
    "duration": 10,
    "start_time": "2022-05-29T12:59:22.152Z"
   },
   {
    "duration": 5,
    "start_time": "2022-05-29T12:59:48.552Z"
   },
   {
    "duration": 19212,
    "start_time": "2022-05-29T19:33:13.720Z"
   },
   {
    "duration": 8547,
    "start_time": "2022-05-29T19:33:32.935Z"
   },
   {
    "duration": 633,
    "start_time": "2022-05-29T19:33:41.528Z"
   },
   {
    "duration": 418,
    "start_time": "2022-05-29T19:33:42.228Z"
   },
   {
    "duration": 14,
    "start_time": "2022-05-29T19:33:42.648Z"
   },
   {
    "duration": 2297,
    "start_time": "2022-05-29T19:34:13.039Z"
   },
   {
    "duration": 1009,
    "start_time": "2022-05-29T19:34:20.847Z"
   },
   {
    "duration": 30,
    "start_time": "2022-05-29T19:35:06.223Z"
   },
   {
    "duration": 347,
    "start_time": "2022-05-29T19:35:09.407Z"
   },
   {
    "duration": 14,
    "start_time": "2022-05-29T19:35:34.439Z"
   },
   {
    "duration": 159,
    "start_time": "2022-05-29T19:35:35.076Z"
   },
   {
    "duration": 715,
    "start_time": "2022-05-29T19:36:44.276Z"
   },
   {
    "duration": 259,
    "start_time": "2022-05-29T19:36:57.906Z"
   },
   {
    "duration": 8,
    "start_time": "2022-05-29T19:37:16.690Z"
   },
   {
    "duration": 19,
    "start_time": "2022-05-29T19:37:32.274Z"
   },
   {
    "duration": 19,
    "start_time": "2022-05-29T19:38:18.962Z"
   },
   {
    "duration": 5,
    "start_time": "2022-05-29T19:39:59.235Z"
   },
   {
    "duration": 29,
    "start_time": "2022-05-29T19:52:34.725Z"
   },
   {
    "duration": 24,
    "start_time": "2022-05-29T19:52:48.625Z"
   },
   {
    "duration": 22,
    "start_time": "2022-05-29T19:53:51.016Z"
   },
   {
    "duration": 15,
    "start_time": "2022-05-29T19:54:32.392Z"
   },
   {
    "duration": 12,
    "start_time": "2022-05-29T19:55:02.258Z"
   },
   {
    "duration": 46,
    "start_time": "2022-05-29T19:57:45.400Z"
   },
   {
    "duration": 3,
    "start_time": "2022-05-29T20:01:52.848Z"
   },
   {
    "duration": 3,
    "start_time": "2022-05-29T20:03:15.939Z"
   },
   {
    "duration": 30,
    "start_time": "2022-05-29T20:03:22.342Z"
   },
   {
    "duration": 36,
    "start_time": "2022-05-29T20:09:57.611Z"
   },
   {
    "duration": 24,
    "start_time": "2022-05-29T20:10:08.308Z"
   },
   {
    "duration": 204,
    "start_time": "2022-05-29T20:10:16.579Z"
   },
   {
    "duration": 8,
    "start_time": "2022-05-29T20:10:24.510Z"
   },
   {
    "duration": 9,
    "start_time": "2022-05-29T20:10:47.278Z"
   },
   {
    "duration": 2,
    "start_time": "2022-05-29T20:11:05.956Z"
   },
   {
    "duration": 93,
    "start_time": "2022-05-29T20:11:08.055Z"
   },
   {
    "duration": 30,
    "start_time": "2022-05-29T20:11:44.571Z"
   },
   {
    "duration": 71,
    "start_time": "2022-05-29T20:11:50.456Z"
   },
   {
    "duration": 48,
    "start_time": "2022-05-29T20:13:02.823Z"
   },
   {
    "duration": 14,
    "start_time": "2022-05-29T20:13:11.544Z"
   },
   {
    "duration": 72,
    "start_time": "2022-05-29T20:13:55.121Z"
   },
   {
    "duration": 9,
    "start_time": "2022-05-29T20:15:15.299Z"
   },
   {
    "duration": 9,
    "start_time": "2022-05-29T20:15:24.144Z"
   },
   {
    "duration": 95,
    "start_time": "2022-05-29T20:15:58.435Z"
   },
   {
    "duration": 120,
    "start_time": "2022-05-29T20:16:20.931Z"
   },
   {
    "duration": 28,
    "start_time": "2022-05-29T20:20:19.036Z"
   },
   {
    "duration": 117,
    "start_time": "2022-05-29T20:20:24.621Z"
   },
   {
    "duration": 151,
    "start_time": "2022-05-29T20:21:41.679Z"
   },
   {
    "duration": 13,
    "start_time": "2022-05-29T20:21:56.151Z"
   },
   {
    "duration": 3,
    "start_time": "2022-05-29T20:22:09.841Z"
   },
   {
    "duration": 111,
    "start_time": "2022-05-29T20:22:15.043Z"
   },
   {
    "duration": 61,
    "start_time": "2022-05-30T18:11:08.190Z"
   },
   {
    "duration": 5361,
    "start_time": "2022-05-30T18:11:32.530Z"
   },
   {
    "duration": 18630,
    "start_time": "2022-05-30T18:11:59.200Z"
   },
   {
    "duration": 8945,
    "start_time": "2022-05-30T18:12:17.832Z"
   },
   {
    "duration": 901,
    "start_time": "2022-05-30T18:12:26.779Z"
   },
   {
    "duration": 433,
    "start_time": "2022-05-30T18:12:27.682Z"
   },
   {
    "duration": 58,
    "start_time": "2022-05-30T18:12:28.117Z"
   },
   {
    "duration": 3,
    "start_time": "2022-05-30T18:12:28.178Z"
   },
   {
    "duration": 2299,
    "start_time": "2022-05-30T18:12:28.182Z"
   },
   {
    "duration": 1208,
    "start_time": "2022-05-30T18:12:30.483Z"
   },
   {
    "duration": 196,
    "start_time": "2022-05-30T18:12:31.692Z"
   },
   {
    "duration": 390,
    "start_time": "2022-05-30T18:12:31.889Z"
   },
   {
    "duration": 3,
    "start_time": "2022-05-30T18:12:32.281Z"
   },
   {
    "duration": 716,
    "start_time": "2022-05-30T18:12:32.285Z"
   },
   {
    "duration": 21,
    "start_time": "2022-05-30T18:13:56.120Z"
   },
   {
    "duration": 6,
    "start_time": "2022-05-30T18:14:01.574Z"
   },
   {
    "duration": 3,
    "start_time": "2022-05-30T18:19:29.450Z"
   },
   {
    "duration": 16,
    "start_time": "2022-05-30T18:19:43.276Z"
   },
   {
    "duration": 34,
    "start_time": "2022-05-30T18:19:49.597Z"
   },
   {
    "duration": 479,
    "start_time": "2022-05-30T18:20:06.250Z"
   },
   {
    "duration": 316,
    "start_time": "2022-05-30T18:20:30.676Z"
   },
   {
    "duration": 1481,
    "start_time": "2022-05-30T18:20:42.879Z"
   },
   {
    "duration": 213,
    "start_time": "2022-05-30T18:21:01.960Z"
   },
   {
    "duration": 998,
    "start_time": "2022-05-30T18:22:02.288Z"
   },
   {
    "duration": 291,
    "start_time": "2022-05-30T18:22:37.339Z"
   },
   {
    "duration": 727,
    "start_time": "2022-05-30T18:22:43.132Z"
   },
   {
    "duration": 10,
    "start_time": "2022-05-30T18:24:23.186Z"
   },
   {
    "duration": 9,
    "start_time": "2022-05-30T18:24:31.498Z"
   },
   {
    "duration": 16,
    "start_time": "2022-05-30T18:24:41.857Z"
   },
   {
    "duration": 13,
    "start_time": "2022-05-30T18:24:47.417Z"
   },
   {
    "duration": 11,
    "start_time": "2022-05-30T18:24:55.673Z"
   },
   {
    "duration": 10,
    "start_time": "2022-05-30T18:25:24.487Z"
   },
   {
    "duration": 12,
    "start_time": "2022-05-30T18:27:07.678Z"
   },
   {
    "duration": 290,
    "start_time": "2022-05-30T18:27:28.633Z"
   },
   {
    "duration": 7,
    "start_time": "2022-05-30T18:47:40.564Z"
   },
   {
    "duration": 132,
    "start_time": "2022-05-30T18:51:13.211Z"
   },
   {
    "duration": 38,
    "start_time": "2022-05-30T18:52:07.948Z"
   },
   {
    "duration": 30,
    "start_time": "2022-05-30T18:56:55.473Z"
   },
   {
    "duration": 30,
    "start_time": "2022-05-30T18:58:05.592Z"
   },
   {
    "duration": 2443,
    "start_time": "2022-05-30T18:59:52.125Z"
   },
   {
    "duration": 10,
    "start_time": "2022-05-30T19:03:45.519Z"
   },
   {
    "duration": 251,
    "start_time": "2022-05-30T19:03:56.649Z"
   },
   {
    "duration": 28,
    "start_time": "2022-05-30T19:05:17.801Z"
   },
   {
    "duration": 1480,
    "start_time": "2022-05-30T19:06:43.398Z"
   },
   {
    "duration": 4,
    "start_time": "2022-05-30T19:07:19.014Z"
   },
   {
    "duration": 13,
    "start_time": "2022-05-30T19:13:03.492Z"
   },
   {
    "duration": 54,
    "start_time": "2022-05-30T19:13:55.027Z"
   },
   {
    "duration": 66,
    "start_time": "2022-05-30T19:15:24.257Z"
   },
   {
    "duration": 24,
    "start_time": "2022-05-30T19:15:56.325Z"
   },
   {
    "duration": 19,
    "start_time": "2022-05-30T19:16:34.731Z"
   },
   {
    "duration": 26,
    "start_time": "2022-05-30T19:17:02.859Z"
   },
   {
    "duration": 18,
    "start_time": "2022-05-30T19:18:47.605Z"
   },
   {
    "duration": 22,
    "start_time": "2022-05-30T19:27:25.108Z"
   },
   {
    "duration": 28,
    "start_time": "2022-05-30T19:28:40.226Z"
   },
   {
    "duration": 314,
    "start_time": "2022-05-30T19:29:01.228Z"
   },
   {
    "duration": 2963,
    "start_time": "2022-05-30T19:41:03.708Z"
   },
   {
    "duration": 1618,
    "start_time": "2022-05-30T19:41:33.773Z"
   },
   {
    "duration": 20,
    "start_time": "2022-05-30T19:41:50.483Z"
   },
   {
    "duration": 55,
    "start_time": "2022-05-30T19:44:45.633Z"
   },
   {
    "duration": 98,
    "start_time": "2022-05-30T19:47:02.076Z"
   },
   {
    "duration": 199,
    "start_time": "2022-05-30T19:47:37.697Z"
   },
   {
    "duration": 53,
    "start_time": "2022-05-30T19:47:59.670Z"
   },
   {
    "duration": 223,
    "start_time": "2022-05-30T19:48:02.590Z"
   },
   {
    "duration": 21,
    "start_time": "2022-05-30T19:48:31.677Z"
   },
   {
    "duration": 19161,
    "start_time": "2022-05-31T20:55:38.231Z"
   },
   {
    "duration": 9149,
    "start_time": "2022-05-31T20:55:57.394Z"
   },
   {
    "duration": 605,
    "start_time": "2022-05-31T20:56:06.545Z"
   },
   {
    "duration": 424,
    "start_time": "2022-05-31T20:56:07.152Z"
   },
   {
    "duration": 55,
    "start_time": "2022-05-31T20:56:07.578Z"
   },
   {
    "duration": 2,
    "start_time": "2022-05-31T20:56:07.635Z"
   },
   {
    "duration": 2124,
    "start_time": "2022-05-31T20:56:07.639Z"
   },
   {
    "duration": 1091,
    "start_time": "2022-05-31T20:56:09.765Z"
   },
   {
    "duration": 196,
    "start_time": "2022-05-31T20:56:10.858Z"
   },
   {
    "duration": 370,
    "start_time": "2022-05-31T20:56:11.056Z"
   },
   {
    "duration": 2,
    "start_time": "2022-05-31T20:56:11.428Z"
   },
   {
    "duration": 709,
    "start_time": "2022-05-31T20:56:11.432Z"
   },
   {
    "duration": 103,
    "start_time": "2022-05-31T20:56:12.143Z"
   },
   {
    "duration": 6,
    "start_time": "2022-05-31T20:56:12.250Z"
   },
   {
    "duration": 10,
    "start_time": "2022-05-31T20:56:12.258Z"
   },
   {
    "duration": 18,
    "start_time": "2022-05-31T20:56:12.327Z"
   },
   {
    "duration": 102,
    "start_time": "2022-05-31T20:56:12.347Z"
   },
   {
    "duration": 385,
    "start_time": "2022-05-31T20:56:12.452Z"
   },
   {
    "duration": 1287,
    "start_time": "2022-05-31T20:56:12.839Z"
   },
   {
    "duration": 15,
    "start_time": "2022-05-31T20:56:14.128Z"
   },
   {
    "duration": 357,
    "start_time": "2022-05-31T20:56:14.146Z"
   },
   {
    "duration": 22,
    "start_time": "2022-05-31T20:56:14.505Z"
   },
   {
    "duration": 2400,
    "start_time": "2022-05-31T20:56:14.529Z"
   },
   {
    "duration": 236,
    "start_time": "2022-05-31T20:56:16.931Z"
   },
   {
    "duration": 84,
    "start_time": "2022-05-31T20:56:17.169Z"
   },
   {
    "duration": 1402,
    "start_time": "2022-05-31T20:56:17.255Z"
   },
   {
    "duration": 69,
    "start_time": "2022-05-31T20:56:18.659Z"
   },
   {
    "duration": 215,
    "start_time": "2022-05-31T20:56:18.730Z"
   },
   {
    "duration": 389,
    "start_time": "2022-05-31T20:56:18.947Z"
   },
   {
    "duration": 91,
    "start_time": "2022-05-31T20:56:19.338Z"
   },
   {
    "duration": 0,
    "start_time": "2022-05-31T20:59:06.061Z"
   },
   {
    "duration": 16230,
    "start_time": "2022-05-31T21:07:22.744Z"
   },
   {
    "duration": 9683,
    "start_time": "2022-05-31T21:07:38.976Z"
   },
   {
    "duration": 866,
    "start_time": "2022-05-31T21:07:48.662Z"
   },
   {
    "duration": 498,
    "start_time": "2022-05-31T21:07:49.529Z"
   },
   {
    "duration": 15,
    "start_time": "2022-05-31T21:07:50.031Z"
   },
   {
    "duration": 3,
    "start_time": "2022-05-31T21:07:50.048Z"
   },
   {
    "duration": 2493,
    "start_time": "2022-05-31T21:07:50.053Z"
   },
   {
    "duration": 1103,
    "start_time": "2022-05-31T21:07:52.548Z"
   },
   {
    "duration": 181,
    "start_time": "2022-05-31T21:07:53.654Z"
   },
   {
    "duration": 305,
    "start_time": "2022-05-31T21:07:53.837Z"
   },
   {
    "duration": 3,
    "start_time": "2022-05-31T21:07:54.144Z"
   },
   {
    "duration": 794,
    "start_time": "2022-05-31T21:07:54.148Z"
   },
   {
    "duration": 23,
    "start_time": "2022-05-31T21:07:54.944Z"
   },
   {
    "duration": 63,
    "start_time": "2022-05-31T21:07:54.970Z"
   },
   {
    "duration": 5,
    "start_time": "2022-05-31T21:07:55.035Z"
   },
   {
    "duration": 23,
    "start_time": "2022-05-31T21:07:55.042Z"
   },
   {
    "duration": 81,
    "start_time": "2022-05-31T21:07:55.067Z"
   },
   {
    "duration": 340,
    "start_time": "2022-05-31T21:07:55.150Z"
   },
   {
    "duration": 1335,
    "start_time": "2022-05-31T21:07:55.491Z"
   },
   {
    "duration": 16,
    "start_time": "2022-05-31T21:07:56.828Z"
   },
   {
    "duration": 401,
    "start_time": "2022-05-31T21:07:56.846Z"
   },
   {
    "duration": 4,
    "start_time": "2022-05-31T21:07:57.249Z"
   },
   {
    "duration": 2492,
    "start_time": "2022-05-31T21:07:57.254Z"
   },
   {
    "duration": 396,
    "start_time": "2022-05-31T21:07:59.748Z"
   },
   {
    "duration": 94,
    "start_time": "2022-05-31T21:08:00.146Z"
   },
   {
    "duration": 1685,
    "start_time": "2022-05-31T21:08:00.242Z"
   },
   {
    "duration": 4,
    "start_time": "2022-05-31T21:08:01.929Z"
   },
   {
    "duration": 221,
    "start_time": "2022-05-31T21:08:01.935Z"
   },
   {
    "duration": 401,
    "start_time": "2022-05-31T21:08:02.158Z"
   },
   {
    "duration": 93,
    "start_time": "2022-05-31T21:08:02.562Z"
   },
   {
    "duration": 50,
    "start_time": "2022-05-31T21:11:25.965Z"
   },
   {
    "duration": 604932,
    "start_time": "2022-05-31T21:11:36.519Z"
   },
   {
    "duration": 0,
    "start_time": "2022-05-31T21:21:41.453Z"
   },
   {
    "duration": 0,
    "start_time": "2022-05-31T21:21:41.454Z"
   },
   {
    "duration": 0,
    "start_time": "2022-05-31T21:21:41.455Z"
   },
   {
    "duration": 0,
    "start_time": "2022-05-31T21:21:41.456Z"
   },
   {
    "duration": 0,
    "start_time": "2022-05-31T21:21:41.458Z"
   },
   {
    "duration": 149866,
    "start_time": "2022-05-31T21:21:51.560Z"
   },
   {
    "duration": 1724,
    "start_time": "2022-05-31T21:24:21.432Z"
   },
   {
    "duration": 1836213,
    "start_time": "2022-05-31T21:24:23.158Z"
   },
   {
    "duration": 0,
    "start_time": "2022-05-31T21:54:59.373Z"
   },
   {
    "duration": 0,
    "start_time": "2022-05-31T21:54:59.374Z"
   },
   {
    "duration": 0,
    "start_time": "2022-05-31T21:54:59.375Z"
   },
   {
    "duration": 0,
    "start_time": "2022-05-31T21:54:59.377Z"
   },
   {
    "duration": 0,
    "start_time": "2022-05-31T21:54:59.378Z"
   },
   {
    "duration": 0,
    "start_time": "2022-05-31T21:54:59.379Z"
   },
   {
    "duration": 15,
    "start_time": "2022-05-31T21:55:14.681Z"
   },
   {
    "duration": 21,
    "start_time": "2022-05-31T21:56:00.013Z"
   },
   {
    "duration": 77,
    "start_time": "2022-05-31T21:56:12.656Z"
   },
   {
    "duration": 413262,
    "start_time": "2022-05-31T21:56:15.511Z"
   },
   {
    "duration": 0,
    "start_time": "2022-05-31T22:03:08.775Z"
   },
   {
    "duration": 0,
    "start_time": "2022-05-31T22:03:08.777Z"
   },
   {
    "duration": 37,
    "start_time": "2022-05-31T22:03:11.865Z"
   },
   {
    "duration": 18,
    "start_time": "2022-05-31T22:03:39.049Z"
   },
   {
    "duration": 77580,
    "start_time": "2022-05-31T22:03:45.808Z"
   },
   {
    "duration": 37,
    "start_time": "2022-05-31T22:07:27.207Z"
   },
   {
    "duration": 96187,
    "start_time": "2022-05-31T22:07:33.694Z"
   },
   {
    "duration": 0,
    "start_time": "2022-05-31T22:09:09.883Z"
   },
   {
    "duration": 84,
    "start_time": "2022-05-31T22:09:12.442Z"
   },
   {
    "duration": 573301,
    "start_time": "2022-05-31T22:09:45.725Z"
   },
   {
    "duration": 0,
    "start_time": "2022-05-31T22:19:19.027Z"
   },
   {
    "duration": 20,
    "start_time": "2022-05-31T22:19:22.119Z"
   },
   {
    "duration": 17136,
    "start_time": "2022-06-01T12:54:32.917Z"
   },
   {
    "duration": 10609,
    "start_time": "2022-06-01T12:54:50.056Z"
   },
   {
    "duration": 903,
    "start_time": "2022-06-01T12:55:00.667Z"
   },
   {
    "duration": 508,
    "start_time": "2022-06-01T12:55:01.572Z"
   },
   {
    "duration": 81,
    "start_time": "2022-06-01T12:55:02.083Z"
   },
   {
    "duration": 3,
    "start_time": "2022-06-01T12:55:02.166Z"
   },
   {
    "duration": 2994,
    "start_time": "2022-06-01T12:55:02.171Z"
   },
   {
    "duration": 1200,
    "start_time": "2022-06-01T12:55:05.167Z"
   },
   {
    "duration": 179,
    "start_time": "2022-06-01T12:55:06.369Z"
   },
   {
    "duration": 309,
    "start_time": "2022-06-01T12:55:06.550Z"
   },
   {
    "duration": 4,
    "start_time": "2022-06-01T12:55:06.860Z"
   },
   {
    "duration": 906,
    "start_time": "2022-06-01T12:55:06.866Z"
   },
   {
    "duration": 89,
    "start_time": "2022-06-01T12:55:07.774Z"
   },
   {
    "duration": 27,
    "start_time": "2022-06-01T12:55:07.867Z"
   },
   {
    "duration": 5,
    "start_time": "2022-06-01T12:55:07.896Z"
   },
   {
    "duration": 59,
    "start_time": "2022-06-01T12:55:07.902Z"
   },
   {
    "duration": 93,
    "start_time": "2022-06-01T12:55:07.963Z"
   },
   {
    "duration": 419,
    "start_time": "2022-06-01T12:55:08.058Z"
   },
   {
    "duration": 1195,
    "start_time": "2022-06-01T12:55:08.479Z"
   },
   {
    "duration": 81,
    "start_time": "2022-06-01T12:55:09.676Z"
   },
   {
    "duration": 500,
    "start_time": "2022-06-01T12:55:09.759Z"
   },
   {
    "duration": 4,
    "start_time": "2022-06-01T12:55:10.262Z"
   },
   {
    "duration": 2401,
    "start_time": "2022-06-01T12:55:10.268Z"
   },
   {
    "duration": 275,
    "start_time": "2022-06-01T12:55:12.670Z"
   },
   {
    "duration": 42,
    "start_time": "2022-06-01T12:55:12.948Z"
   },
   {
    "duration": 1632,
    "start_time": "2022-06-01T12:55:13.045Z"
   },
   {
    "duration": 68,
    "start_time": "2022-06-01T12:55:14.679Z"
   },
   {
    "duration": 212,
    "start_time": "2022-06-01T12:55:14.748Z"
   },
   {
    "duration": 504,
    "start_time": "2022-06-01T12:55:14.962Z"
   },
   {
    "duration": 96,
    "start_time": "2022-06-01T12:55:15.468Z"
   },
   {
    "duration": 9,
    "start_time": "2022-06-01T12:55:15.566Z"
   },
   {
    "duration": 110,
    "start_time": "2022-06-01T12:55:15.577Z"
   },
   {
    "duration": 7438,
    "start_time": "2022-06-01T12:55:15.689Z"
   },
   {
    "duration": 5714,
    "start_time": "2022-06-01T12:55:26.446Z"
   },
   {
    "duration": 2471,
    "start_time": "2022-06-01T12:55:35.997Z"
   },
   {
    "duration": 137,
    "start_time": "2022-06-01T12:55:41.842Z"
   },
   {
    "duration": 949,
    "start_time": "2022-06-01T12:55:55.776Z"
   },
   {
    "duration": 787,
    "start_time": "2022-06-01T12:56:01.691Z"
   },
   {
    "duration": 19271,
    "start_time": "2022-06-01T16:34:33.109Z"
   },
   {
    "duration": 8517,
    "start_time": "2022-06-01T16:34:52.383Z"
   },
   {
    "duration": 671,
    "start_time": "2022-06-01T16:35:00.902Z"
   },
   {
    "duration": 353,
    "start_time": "2022-06-01T16:35:01.576Z"
   },
   {
    "duration": 42,
    "start_time": "2022-06-01T16:35:01.931Z"
   },
   {
    "duration": 3,
    "start_time": "2022-06-01T16:35:01.975Z"
   },
   {
    "duration": 1996,
    "start_time": "2022-06-01T16:35:01.980Z"
   },
   {
    "duration": 990,
    "start_time": "2022-06-01T16:35:03.978Z"
   },
   {
    "duration": 132,
    "start_time": "2022-06-01T16:35:04.970Z"
   },
   {
    "duration": 307,
    "start_time": "2022-06-01T16:35:05.164Z"
   },
   {
    "duration": 2,
    "start_time": "2022-06-01T16:35:05.473Z"
   },
   {
    "duration": 717,
    "start_time": "2022-06-01T16:35:05.477Z"
   },
   {
    "duration": 75,
    "start_time": "2022-06-01T16:35:06.196Z"
   },
   {
    "duration": 6,
    "start_time": "2022-06-01T16:35:06.273Z"
   },
   {
    "duration": 9,
    "start_time": "2022-06-01T16:35:06.280Z"
   },
   {
    "duration": 81,
    "start_time": "2022-06-01T16:35:06.293Z"
   },
   {
    "duration": 26,
    "start_time": "2022-06-01T16:35:06.376Z"
   },
   {
    "duration": 308,
    "start_time": "2022-06-01T16:35:06.465Z"
   },
   {
    "duration": 1293,
    "start_time": "2022-06-01T16:35:06.775Z"
   },
   {
    "duration": 12,
    "start_time": "2022-06-01T16:35:08.070Z"
   },
   {
    "duration": 317,
    "start_time": "2022-06-01T16:35:08.084Z"
   },
   {
    "duration": 3,
    "start_time": "2022-06-01T16:35:08.402Z"
   },
   {
    "duration": 1970,
    "start_time": "2022-06-01T16:35:08.406Z"
   },
   {
    "duration": 208,
    "start_time": "2022-06-01T16:35:10.378Z"
   },
   {
    "duration": 93,
    "start_time": "2022-06-01T16:35:10.588Z"
   },
   {
    "duration": 1303,
    "start_time": "2022-06-01T16:35:10.683Z"
   },
   {
    "duration": 4,
    "start_time": "2022-06-01T16:35:11.988Z"
   },
   {
    "duration": 203,
    "start_time": "2022-06-01T16:35:11.994Z"
   },
   {
    "duration": 313,
    "start_time": "2022-06-01T16:35:12.265Z"
   },
   {
    "duration": 86,
    "start_time": "2022-06-01T16:35:12.580Z"
   },
   {
    "duration": 9,
    "start_time": "2022-06-01T16:35:12.668Z"
   },
   {
    "duration": 189,
    "start_time": "2022-06-01T16:35:12.679Z"
   },
   {
    "duration": 4826,
    "start_time": "2022-06-01T16:35:12.870Z"
   },
   {
    "duration": 2635,
    "start_time": "2022-06-01T16:35:17.765Z"
   },
   {
    "duration": 920,
    "start_time": "2022-06-01T16:35:20.402Z"
   },
   {
    "duration": 845,
    "start_time": "2022-06-01T16:35:21.323Z"
   },
   {
    "duration": 18,
    "start_time": "2022-06-01T16:35:22.170Z"
   },
   {
    "duration": 98,
    "start_time": "2022-06-01T16:36:46.032Z"
   },
   {
    "duration": 9,
    "start_time": "2022-06-01T16:37:03.420Z"
   },
   {
    "duration": 30,
    "start_time": "2022-06-01T16:37:15.821Z"
   },
   {
    "duration": 11,
    "start_time": "2022-06-01T16:37:36.037Z"
   },
   {
    "duration": 11,
    "start_time": "2022-06-01T16:38:04.066Z"
   },
   {
    "duration": 10,
    "start_time": "2022-06-01T16:49:44.781Z"
   },
   {
    "duration": 9,
    "start_time": "2022-06-01T16:51:16.988Z"
   },
   {
    "duration": 8,
    "start_time": "2022-06-01T16:51:26.040Z"
   },
   {
    "duration": 9,
    "start_time": "2022-06-01T16:54:43.946Z"
   },
   {
    "duration": 8,
    "start_time": "2022-06-01T17:08:48.869Z"
   },
   {
    "duration": 10,
    "start_time": "2022-06-01T17:09:00.071Z"
   },
   {
    "duration": 4,
    "start_time": "2022-06-01T17:11:32.732Z"
   },
   {
    "duration": 9,
    "start_time": "2022-06-01T17:12:41.322Z"
   },
   {
    "duration": 13,
    "start_time": "2022-06-01T17:12:59.682Z"
   },
   {
    "duration": 11,
    "start_time": "2022-06-01T17:13:04.264Z"
   },
   {
    "duration": 149,
    "start_time": "2022-06-01T17:15:23.174Z"
   },
   {
    "duration": 95,
    "start_time": "2022-06-01T17:15:34.158Z"
   },
   {
    "duration": 8,
    "start_time": "2022-06-01T17:18:33.371Z"
   },
   {
    "duration": 8,
    "start_time": "2022-06-01T17:20:13.326Z"
   },
   {
    "duration": 65,
    "start_time": "2022-06-01T17:20:26.371Z"
   },
   {
    "duration": 12,
    "start_time": "2022-06-01T17:24:09.887Z"
   },
   {
    "duration": 1224,
    "start_time": "2022-06-01T17:24:17.972Z"
   },
   {
    "duration": 3,
    "start_time": "2022-06-01T17:27:16.457Z"
   },
   {
    "duration": 10,
    "start_time": "2022-06-01T17:28:08.811Z"
   },
   {
    "duration": 14,
    "start_time": "2022-06-01T17:28:20.891Z"
   },
   {
    "duration": 1020,
    "start_time": "2022-06-01T17:31:49.310Z"
   },
   {
    "duration": 1392,
    "start_time": "2022-06-01T17:31:59.426Z"
   },
   {
    "duration": 194,
    "start_time": "2022-06-01T17:32:45.975Z"
   },
   {
    "duration": 312,
    "start_time": "2022-06-01T17:32:56.678Z"
   },
   {
    "duration": 4,
    "start_time": "2022-06-01T17:33:58.403Z"
   },
   {
    "duration": 658,
    "start_time": "2022-06-01T17:35:14.794Z"
   },
   {
    "duration": 118,
    "start_time": "2022-06-01T17:35:28.576Z"
   },
   {
    "duration": 73,
    "start_time": "2022-06-01T17:35:44.510Z"
   },
   {
    "duration": 21,
    "start_time": "2022-06-01T17:39:19.455Z"
   },
   {
    "duration": 5,
    "start_time": "2022-06-01T17:39:20.306Z"
   },
   {
    "duration": 10,
    "start_time": "2022-06-01T17:39:21.071Z"
   },
   {
    "duration": 2215,
    "start_time": "2022-06-01T17:39:21.768Z"
   },
   {
    "duration": 150,
    "start_time": "2022-06-01T17:39:23.985Z"
   },
   {
    "duration": 20155,
    "start_time": "2022-06-01T17:39:59.545Z"
   },
   {
    "duration": 9071,
    "start_time": "2022-06-01T17:40:19.702Z"
   },
   {
    "duration": 798,
    "start_time": "2022-06-01T17:40:28.775Z"
   },
   {
    "duration": 440,
    "start_time": "2022-06-01T17:40:29.575Z"
   },
   {
    "duration": 55,
    "start_time": "2022-06-01T17:40:30.018Z"
   },
   {
    "duration": 3,
    "start_time": "2022-06-01T17:40:30.076Z"
   },
   {
    "duration": 2303,
    "start_time": "2022-06-01T17:40:30.081Z"
   },
   {
    "duration": 1118,
    "start_time": "2022-06-01T17:40:32.386Z"
   },
   {
    "duration": 189,
    "start_time": "2022-06-01T17:40:33.506Z"
   },
   {
    "duration": 378,
    "start_time": "2022-06-01T17:40:33.697Z"
   },
   {
    "duration": 2,
    "start_time": "2022-06-01T17:40:34.077Z"
   },
   {
    "duration": 706,
    "start_time": "2022-06-01T17:40:34.081Z"
   },
   {
    "duration": 77,
    "start_time": "2022-06-01T17:40:34.789Z"
   },
   {
    "duration": 7,
    "start_time": "2022-06-01T17:40:34.870Z"
   },
   {
    "duration": 6,
    "start_time": "2022-06-01T17:40:34.878Z"
   },
   {
    "duration": 80,
    "start_time": "2022-06-01T17:40:34.886Z"
   },
   {
    "duration": 26,
    "start_time": "2022-06-01T17:40:34.968Z"
   },
   {
    "duration": 380,
    "start_time": "2022-06-01T17:40:34.996Z"
   },
   {
    "duration": 987,
    "start_time": "2022-06-01T17:40:35.379Z"
   },
   {
    "duration": 13,
    "start_time": "2022-06-01T17:40:36.368Z"
   },
   {
    "duration": 397,
    "start_time": "2022-06-01T17:40:36.387Z"
   },
   {
    "duration": 3,
    "start_time": "2022-06-01T17:40:36.786Z"
   },
   {
    "duration": 2874,
    "start_time": "2022-06-01T17:40:36.791Z"
   },
   {
    "duration": 325,
    "start_time": "2022-06-01T17:40:39.668Z"
   },
   {
    "duration": 106,
    "start_time": "2022-06-01T17:40:39.994Z"
   },
   {
    "duration": 1563,
    "start_time": "2022-06-01T17:40:40.103Z"
   },
   {
    "duration": 4,
    "start_time": "2022-06-01T17:40:41.668Z"
   },
   {
    "duration": 202,
    "start_time": "2022-06-01T17:40:41.674Z"
   },
   {
    "duration": 394,
    "start_time": "2022-06-01T17:40:41.878Z"
   },
   {
    "duration": 37,
    "start_time": "2022-06-01T17:41:20.527Z"
   },
   {
    "duration": 8,
    "start_time": "2022-06-01T17:41:22.586Z"
   },
   {
    "duration": 69,
    "start_time": "2022-06-01T17:41:26.101Z"
   },
   {
    "duration": 4957,
    "start_time": "2022-06-01T17:41:29.320Z"
   },
   {
    "duration": 179,
    "start_time": "2022-06-01T17:41:36.565Z"
   },
   {
    "duration": 11,
    "start_time": "2022-06-01T17:42:11.698Z"
   },
   {
    "duration": 2423,
    "start_time": "2022-06-01T17:42:13.661Z"
   },
   {
    "duration": 11,
    "start_time": "2022-06-01T17:42:21.742Z"
   },
   {
    "duration": 1826,
    "start_time": "2022-06-01T17:42:23.167Z"
   },
   {
    "duration": 70,
    "start_time": "2022-06-01T17:42:31.341Z"
   },
   {
    "duration": 5,
    "start_time": "2022-06-01T17:42:45.863Z"
   },
   {
    "duration": 8,
    "start_time": "2022-06-01T17:43:00.203Z"
   },
   {
    "duration": 54,
    "start_time": "2022-06-01T17:43:04.778Z"
   },
   {
    "duration": 793,
    "start_time": "2022-06-01T17:43:51.778Z"
   },
   {
    "duration": 614,
    "start_time": "2022-06-01T17:44:12.578Z"
   },
   {
    "duration": 403,
    "start_time": "2022-06-01T17:45:31.963Z"
   },
   {
    "duration": 74,
    "start_time": "2022-06-01T17:47:40.429Z"
   },
   {
    "duration": 21,
    "start_time": "2022-06-01T17:48:48.517Z"
   },
   {
    "duration": 232,
    "start_time": "2022-06-01T17:48:52.344Z"
   },
   {
    "duration": 35,
    "start_time": "2022-06-01T17:49:36.290Z"
   },
   {
    "duration": 194,
    "start_time": "2022-06-01T17:49:36.878Z"
   },
   {
    "duration": 116,
    "start_time": "2022-06-01T17:49:39.654Z"
   },
   {
    "duration": 16,
    "start_time": "2022-06-01T17:49:42.956Z"
   },
   {
    "duration": 446,
    "start_time": "2022-06-01T17:49:43.934Z"
   },
   {
    "duration": 359,
    "start_time": "2022-06-01T17:49:45.553Z"
   },
   {
    "duration": 155,
    "start_time": "2022-06-01T17:50:38.315Z"
   },
   {
    "duration": 16,
    "start_time": "2022-06-01T17:51:00.758Z"
   },
   {
    "duration": 7,
    "start_time": "2022-06-01T17:51:08.691Z"
   },
   {
    "duration": 66,
    "start_time": "2022-06-01T17:51:13.032Z"
   },
   {
    "duration": 26,
    "start_time": "2022-06-01T17:53:22.113Z"
   },
   {
    "duration": 239,
    "start_time": "2022-06-01T17:53:22.966Z"
   },
   {
    "duration": 118,
    "start_time": "2022-06-01T17:53:23.984Z"
   },
   {
    "duration": 100,
    "start_time": "2022-06-01T17:53:41.225Z"
   },
   {
    "duration": 15,
    "start_time": "2022-06-01T17:53:44.840Z"
   },
   {
    "duration": 493,
    "start_time": "2022-06-01T17:53:45.301Z"
   },
   {
    "duration": 400,
    "start_time": "2022-06-01T17:53:47.291Z"
   },
   {
    "duration": 5,
    "start_time": "2022-06-01T17:53:47.764Z"
   },
   {
    "duration": 10,
    "start_time": "2022-06-01T17:53:48.982Z"
   },
   {
    "duration": 1791,
    "start_time": "2022-06-01T17:53:49.902Z"
   },
   {
    "duration": 7,
    "start_time": "2022-06-01T17:53:53.228Z"
   },
   {
    "duration": 4,
    "start_time": "2022-06-01T17:53:54.011Z"
   },
   {
    "duration": 63,
    "start_time": "2022-06-01T17:53:54.786Z"
   },
   {
    "duration": 34,
    "start_time": "2022-06-01T17:54:22.208Z"
   },
   {
    "duration": 198,
    "start_time": "2022-06-01T17:54:22.806Z"
   },
   {
    "duration": 127,
    "start_time": "2022-06-01T17:54:23.579Z"
   },
   {
    "duration": 103,
    "start_time": "2022-06-01T17:54:24.400Z"
   },
   {
    "duration": 20,
    "start_time": "2022-06-01T17:54:27.565Z"
   },
   {
    "duration": 369,
    "start_time": "2022-06-01T17:54:27.925Z"
   },
   {
    "duration": 262,
    "start_time": "2022-06-01T17:54:28.310Z"
   },
   {
    "duration": 5,
    "start_time": "2022-06-01T17:54:28.669Z"
   },
   {
    "duration": 7,
    "start_time": "2022-06-01T17:54:29.218Z"
   },
   {
    "duration": 1560,
    "start_time": "2022-06-01T17:54:29.445Z"
   },
   {
    "duration": 8,
    "start_time": "2022-06-01T17:54:31.065Z"
   },
   {
    "duration": 5,
    "start_time": "2022-06-01T17:54:35.904Z"
   },
   {
    "duration": 1479,
    "start_time": "2022-06-01T17:54:36.633Z"
   },
   {
    "duration": 556,
    "start_time": "2022-06-01T17:54:43.837Z"
   },
   {
    "duration": 443,
    "start_time": "2022-06-01T17:54:44.395Z"
   },
   {
    "duration": 8,
    "start_time": "2022-06-01T17:54:52.305Z"
   },
   {
    "duration": 686,
    "start_time": "2022-06-01T17:54:52.879Z"
   },
   {
    "duration": 521,
    "start_time": "2022-06-01T17:54:55.273Z"
   },
   {
    "duration": 1017,
    "start_time": "2022-06-01T17:54:57.171Z"
   },
   {
    "duration": 119,
    "start_time": "2022-06-01T17:54:59.177Z"
   },
   {
    "duration": 236,
    "start_time": "2022-06-01T17:55:00.553Z"
   },
   {
    "duration": 9,
    "start_time": "2022-06-01T17:55:01.774Z"
   },
   {
    "duration": 63,
    "start_time": "2022-06-01T17:55:22.631Z"
   },
   {
    "duration": 66,
    "start_time": "2022-06-01T17:55:25.218Z"
   },
   {
    "duration": 79,
    "start_time": "2022-06-01T17:55:26.006Z"
   },
   {
    "duration": 46,
    "start_time": "2022-06-01T17:55:30.349Z"
   },
   {
    "duration": 4,
    "start_time": "2022-06-01T17:56:04.685Z"
   },
   {
    "duration": 4,
    "start_time": "2022-06-01T17:56:26.935Z"
   },
   {
    "duration": 4,
    "start_time": "2022-06-01T17:56:43.033Z"
   },
   {
    "duration": 4,
    "start_time": "2022-06-01T17:56:46.960Z"
   },
   {
    "duration": 4,
    "start_time": "2022-06-01T17:56:47.628Z"
   },
   {
    "duration": 4,
    "start_time": "2022-06-01T17:56:51.176Z"
   },
   {
    "duration": 9,
    "start_time": "2022-06-01T18:19:17.794Z"
   },
   {
    "duration": 8,
    "start_time": "2022-06-01T18:20:03.381Z"
   },
   {
    "duration": 610,
    "start_time": "2022-06-01T18:21:37.191Z"
   },
   {
    "duration": 86,
    "start_time": "2022-06-01T18:23:02.180Z"
   },
   {
    "duration": 3,
    "start_time": "2022-06-01T18:24:42.058Z"
   },
   {
    "duration": 434,
    "start_time": "2022-06-01T18:28:48.781Z"
   },
   {
    "duration": 19279,
    "start_time": "2022-06-01T18:31:12.296Z"
   },
   {
    "duration": 1069,
    "start_time": "2022-06-01T18:34:30.762Z"
   },
   {
    "duration": 167,
    "start_time": "2022-06-01T18:34:32.865Z"
   },
   {
    "duration": 13,
    "start_time": "2022-06-01T18:34:33.762Z"
   },
   {
    "duration": 1949,
    "start_time": "2022-06-01T18:34:35.422Z"
   },
   {
    "duration": 816,
    "start_time": "2022-06-01T18:34:40.250Z"
   },
   {
    "duration": 40,
    "start_time": "2022-06-01T18:42:29.665Z"
   },
   {
    "duration": 1034,
    "start_time": "2022-06-01T18:47:21.308Z"
   },
   {
    "duration": 53,
    "start_time": "2022-06-01T18:47:31.489Z"
   },
   {
    "duration": 19,
    "start_time": "2022-06-01T19:01:17.087Z"
   },
   {
    "duration": 228,
    "start_time": "2022-06-01T19:01:39.782Z"
   },
   {
    "duration": 709,
    "start_time": "2022-06-01T19:03:33.466Z"
   },
   {
    "duration": 543,
    "start_time": "2022-06-01T19:03:44.861Z"
   },
   {
    "duration": 445,
    "start_time": "2022-06-01T19:03:49.947Z"
   },
   {
    "duration": 380,
    "start_time": "2022-06-01T19:04:12.155Z"
   },
   {
    "duration": 31,
    "start_time": "2022-06-01T19:08:31.757Z"
   },
   {
    "duration": 12,
    "start_time": "2022-06-01T19:09:43.587Z"
   },
   {
    "duration": 760,
    "start_time": "2022-06-01T19:09:51.819Z"
   },
   {
    "duration": 11,
    "start_time": "2022-06-01T19:11:29.271Z"
   },
   {
    "duration": 296,
    "start_time": "2022-06-01T19:12:01.978Z"
   },
   {
    "duration": 209,
    "start_time": "2022-06-01T19:12:19.609Z"
   },
   {
    "duration": 3,
    "start_time": "2022-06-01T19:18:25.190Z"
   },
   {
    "duration": 1784,
    "start_time": "2022-06-01T19:23:09.794Z"
   },
   {
    "duration": 32,
    "start_time": "2022-06-01T19:24:39.988Z"
   },
   {
    "duration": 17,
    "start_time": "2022-06-01T19:24:54.666Z"
   },
   {
    "duration": 69,
    "start_time": "2022-06-01T19:25:48.903Z"
   },
   {
    "duration": 536,
    "start_time": "2022-06-01T19:26:26.836Z"
   },
   {
    "duration": 109,
    "start_time": "2022-06-01T19:26:31.805Z"
   },
   {
    "duration": 15755,
    "start_time": "2022-06-01T19:26:47.748Z"
   },
   {
    "duration": 9872,
    "start_time": "2022-06-01T19:27:03.505Z"
   },
   {
    "duration": 488,
    "start_time": "2022-06-01T19:27:13.379Z"
   },
   {
    "duration": 18,
    "start_time": "2022-06-01T19:27:13.868Z"
   },
   {
    "duration": 2192,
    "start_time": "2022-06-01T19:27:13.888Z"
   },
   {
    "duration": 890,
    "start_time": "2022-06-01T19:27:16.081Z"
   },
   {
    "duration": 335,
    "start_time": "2022-06-01T19:27:16.973Z"
   },
   {
    "duration": 702,
    "start_time": "2022-06-01T19:27:17.310Z"
   },
   {
    "duration": 78,
    "start_time": "2022-06-01T19:27:18.014Z"
   },
   {
    "duration": 1200,
    "start_time": "2022-06-01T19:27:18.094Z"
   },
   {
    "duration": 80,
    "start_time": "2022-06-01T19:27:19.296Z"
   },
   {
    "duration": 395,
    "start_time": "2022-06-01T19:27:19.378Z"
   },
   {
    "duration": 3,
    "start_time": "2022-06-01T19:27:19.775Z"
   },
   {
    "duration": 1886,
    "start_time": "2022-06-01T19:27:19.780Z"
   },
   {
    "duration": 787,
    "start_time": "2022-06-01T19:28:10.991Z"
   },
   {
    "duration": 60,
    "start_time": "2022-06-01T19:28:47.807Z"
   },
   {
    "duration": 135,
    "start_time": "2022-06-01T19:29:10.093Z"
   },
   {
    "duration": 4,
    "start_time": "2022-06-01T19:29:24.104Z"
   },
   {
    "duration": 39,
    "start_time": "2022-06-01T19:29:27.861Z"
   },
   {
    "duration": 68,
    "start_time": "2022-06-01T19:29:57.628Z"
   },
   {
    "duration": 1126,
    "start_time": "2022-06-01T19:31:32.642Z"
   },
   {
    "duration": 4,
    "start_time": "2022-06-01T19:31:41.808Z"
   },
   {
    "duration": 15783,
    "start_time": "2022-06-01T19:32:51.527Z"
   },
   {
    "duration": 9820,
    "start_time": "2022-06-01T19:33:07.366Z"
   },
   {
    "duration": 478,
    "start_time": "2022-06-01T19:33:17.188Z"
   },
   {
    "duration": 16,
    "start_time": "2022-06-01T19:33:17.668Z"
   },
   {
    "duration": 2492,
    "start_time": "2022-06-01T19:33:17.687Z"
   },
   {
    "duration": 1030,
    "start_time": "2022-06-01T19:33:20.182Z"
   },
   {
    "duration": 411,
    "start_time": "2022-06-01T19:33:21.264Z"
   },
   {
    "duration": 818,
    "start_time": "2022-06-01T19:33:21.677Z"
   },
   {
    "duration": 98,
    "start_time": "2022-06-01T19:33:22.496Z"
   },
   {
    "duration": 1685,
    "start_time": "2022-06-01T19:33:22.596Z"
   },
   {
    "duration": 85,
    "start_time": "2022-06-01T19:33:24.283Z"
   },
   {
    "duration": 404,
    "start_time": "2022-06-01T19:33:24.370Z"
   },
   {
    "duration": 3,
    "start_time": "2022-06-01T19:33:24.777Z"
   },
   {
    "duration": 1998,
    "start_time": "2022-06-01T19:33:24.782Z"
   },
   {
    "duration": 799,
    "start_time": "2022-06-01T19:33:26.782Z"
   },
   {
    "duration": 107,
    "start_time": "2022-06-01T19:33:27.582Z"
   },
   {
    "duration": 91,
    "start_time": "2022-06-01T19:33:27.691Z"
   },
   {
    "duration": 1396,
    "start_time": "2022-06-01T19:33:27.783Z"
   },
   {
    "duration": 5,
    "start_time": "2022-06-01T19:33:29.181Z"
   },
   {
    "duration": 4,
    "start_time": "2022-06-01T19:34:47.559Z"
   },
   {
    "duration": 138,
    "start_time": "2022-06-01T19:37:43.528Z"
   },
   {
    "duration": 496,
    "start_time": "2022-06-01T19:38:07.991Z"
   },
   {
    "duration": 254,
    "start_time": "2022-06-01T19:38:20.923Z"
   },
   {
    "duration": 52,
    "start_time": "2022-06-01T20:42:42.110Z"
   },
   {
    "duration": 41,
    "start_time": "2022-06-01T20:43:07.975Z"
   },
   {
    "duration": 6202,
    "start_time": "2022-06-01T20:44:16.881Z"
   },
   {
    "duration": 3053,
    "start_time": "2022-06-01T20:45:20.521Z"
   },
   {
    "duration": 1796,
    "start_time": "2022-06-01T20:47:58.675Z"
   },
   {
    "duration": 2391,
    "start_time": "2022-06-01T20:48:41.204Z"
   },
   {
    "duration": 282,
    "start_time": "2022-06-01T20:51:20.597Z"
   },
   {
    "duration": 4,
    "start_time": "2022-06-01T20:52:19.948Z"
   },
   {
    "duration": 129,
    "start_time": "2022-06-01T20:52:56.260Z"
   },
   {
    "duration": 19177,
    "start_time": "2022-06-02T15:44:35.839Z"
   },
   {
    "duration": 9084,
    "start_time": "2022-06-02T15:44:55.018Z"
   },
   {
    "duration": 387,
    "start_time": "2022-06-02T15:45:04.104Z"
   },
   {
    "duration": 15,
    "start_time": "2022-06-02T15:45:04.493Z"
   },
   {
    "duration": 2071,
    "start_time": "2022-06-02T15:45:04.509Z"
   },
   {
    "duration": 937,
    "start_time": "2022-06-02T15:45:06.584Z"
   },
   {
    "duration": 349,
    "start_time": "2022-06-02T15:45:07.580Z"
   },
   {
    "duration": 788,
    "start_time": "2022-06-02T15:45:07.931Z"
   },
   {
    "duration": 77,
    "start_time": "2022-06-02T15:45:08.720Z"
   },
   {
    "duration": 1213,
    "start_time": "2022-06-02T15:45:08.800Z"
   },
   {
    "duration": 21,
    "start_time": "2022-06-02T15:45:10.080Z"
   },
   {
    "duration": 427,
    "start_time": "2022-06-02T15:45:10.103Z"
   },
   {
    "duration": 4,
    "start_time": "2022-06-02T15:45:10.583Z"
   },
   {
    "duration": 2309,
    "start_time": "2022-06-02T15:45:10.588Z"
   },
   {
    "duration": 619,
    "start_time": "2022-06-02T15:45:12.899Z"
   },
   {
    "duration": 114,
    "start_time": "2022-06-02T15:45:13.523Z"
   },
   {
    "duration": 73,
    "start_time": "2022-06-02T15:45:13.639Z"
   },
   {
    "duration": 1694,
    "start_time": "2022-06-02T15:45:13.714Z"
   },
   {
    "duration": 3,
    "start_time": "2022-06-02T15:45:15.410Z"
   },
   {
    "duration": 186,
    "start_time": "2022-06-02T15:45:15.415Z"
   },
   {
    "duration": 617,
    "start_time": "2022-06-02T15:45:15.603Z"
   },
   {
    "duration": 372,
    "start_time": "2022-06-02T15:45:16.222Z"
   },
   {
    "duration": 23,
    "start_time": "2022-06-02T15:45:16.596Z"
   },
   {
    "duration": 229,
    "start_time": "2022-06-02T15:45:16.620Z"
   },
   {
    "duration": 6236,
    "start_time": "2022-06-02T15:45:16.851Z"
   },
   {
    "duration": 2894,
    "start_time": "2022-06-02T15:45:23.095Z"
   },
   {
    "duration": 3034,
    "start_time": "2022-06-02T15:45:25.991Z"
   },
   {
    "duration": 354,
    "start_time": "2022-06-02T15:45:29.028Z"
   },
   {
    "duration": 129,
    "start_time": "2022-06-02T15:45:29.383Z"
   },
   {
    "duration": 98,
    "start_time": "2022-06-03T08:36:01.507Z"
   },
   {
    "duration": 15127,
    "start_time": "2022-06-03T08:36:17.239Z"
   },
   {
    "duration": 8687,
    "start_time": "2022-06-03T08:36:32.369Z"
   },
   {
    "duration": 397,
    "start_time": "2022-06-03T08:36:41.058Z"
   },
   {
    "duration": 72,
    "start_time": "2022-06-03T08:36:41.457Z"
   },
   {
    "duration": 2011,
    "start_time": "2022-06-03T08:36:41.532Z"
   },
   {
    "duration": 896,
    "start_time": "2022-06-03T08:36:43.544Z"
   },
   {
    "duration": 395,
    "start_time": "2022-06-03T08:36:44.442Z"
   },
   {
    "duration": 821,
    "start_time": "2022-06-03T08:36:44.839Z"
   },
   {
    "duration": 84,
    "start_time": "2022-06-03T08:36:45.662Z"
   },
   {
    "duration": 1087,
    "start_time": "2022-06-03T08:36:45.748Z"
   },
   {
    "duration": 11,
    "start_time": "2022-06-03T08:36:46.838Z"
   },
   {
    "duration": 331,
    "start_time": "2022-06-03T08:36:46.851Z"
   },
   {
    "duration": 4,
    "start_time": "2022-06-03T08:36:47.229Z"
   },
   {
    "duration": 2094,
    "start_time": "2022-06-03T08:36:47.237Z"
   },
   {
    "duration": 711,
    "start_time": "2022-06-03T08:36:49.332Z"
   },
   {
    "duration": 115,
    "start_time": "2022-06-03T08:36:50.045Z"
   },
   {
    "duration": 93,
    "start_time": "2022-06-03T08:36:50.162Z"
   },
   {
    "duration": 1193,
    "start_time": "2022-06-03T08:36:50.257Z"
   },
   {
    "duration": 3,
    "start_time": "2022-06-03T08:36:51.451Z"
   },
   {
    "duration": 197,
    "start_time": "2022-06-03T08:36:51.456Z"
   },
   {
    "duration": 494,
    "start_time": "2022-06-03T08:36:51.655Z"
   },
   {
    "duration": 324,
    "start_time": "2022-06-03T08:36:52.151Z"
   },
   {
    "duration": 77,
    "start_time": "2022-06-03T08:36:52.476Z"
   },
   {
    "duration": 103,
    "start_time": "2022-06-03T08:36:52.555Z"
   },
   {
    "duration": 6079,
    "start_time": "2022-06-03T08:36:52.660Z"
   },
   {
    "duration": 2713,
    "start_time": "2022-06-03T08:36:58.741Z"
   },
   {
    "duration": 2679,
    "start_time": "2022-06-03T08:37:01.456Z"
   },
   {
    "duration": 300,
    "start_time": "2022-06-03T08:37:04.137Z"
   },
   {
    "duration": 194,
    "start_time": "2022-06-03T08:37:04.439Z"
   },
   {
    "duration": 4,
    "start_time": "2022-06-03T08:37:28.825Z"
   },
   {
    "duration": 439,
    "start_time": "2022-06-03T08:37:32.793Z"
   },
   {
    "duration": 490,
    "start_time": "2022-06-03T08:37:37.782Z"
   },
   {
    "duration": 1076,
    "start_time": "2022-06-03T08:38:36.592Z"
   },
   {
    "duration": 913,
    "start_time": "2022-06-03T08:38:54.016Z"
   },
   {
    "duration": 49,
    "start_time": "2022-06-03T08:39:34.370Z"
   },
   {
    "duration": 63,
    "start_time": "2022-06-03T08:41:41.593Z"
   },
   {
    "duration": 64,
    "start_time": "2022-06-04T09:18:30.205Z"
   },
   {
    "duration": 15389,
    "start_time": "2022-06-04T09:18:34.706Z"
   },
   {
    "duration": 9367,
    "start_time": "2022-06-04T09:18:50.097Z"
   },
   {
    "duration": 1363,
    "start_time": "2022-06-04T09:19:10.042Z"
   },
   {
    "duration": 400,
    "start_time": "2022-06-04T09:19:34.869Z"
   },
   {
    "duration": 886,
    "start_time": "2022-06-04T09:20:27.869Z"
   },
   {
    "duration": 286,
    "start_time": "2022-06-04T09:20:35.045Z"
   },
   {
    "duration": 1046,
    "start_time": "2022-06-04T09:21:52.218Z"
   },
   {
    "duration": 783,
    "start_time": "2022-06-04T09:21:57.106Z"
   },
   {
    "duration": 774,
    "start_time": "2022-06-04T09:23:11.710Z"
   },
   {
    "duration": 367,
    "start_time": "2022-06-04T09:23:26.034Z"
   },
   {
    "duration": 1241,
    "start_time": "2022-06-04T09:23:30.322Z"
   },
   {
    "duration": 104,
    "start_time": "2022-06-04T09:24:26.566Z"
   },
   {
    "duration": 131,
    "start_time": "2022-06-04T09:24:30.794Z"
   },
   {
    "duration": 603,
    "start_time": "2022-06-04T09:27:41.394Z"
   },
   {
    "duration": 612,
    "start_time": "2022-06-04T09:29:05.690Z"
   },
   {
    "duration": 582,
    "start_time": "2022-06-04T09:29:10.514Z"
   },
   {
    "duration": 601,
    "start_time": "2022-06-04T09:29:19.558Z"
   },
   {
    "duration": 629,
    "start_time": "2022-06-04T09:30:03.226Z"
   },
   {
    "duration": 648,
    "start_time": "2022-06-04T09:30:16.460Z"
   },
   {
    "duration": 564,
    "start_time": "2022-06-04T09:30:29.494Z"
   },
   {
    "duration": 472,
    "start_time": "2022-06-04T09:30:33.910Z"
   },
   {
    "duration": 123,
    "start_time": "2022-06-04T09:31:15.031Z"
   },
   {
    "duration": 85,
    "start_time": "2022-06-04T09:31:18.598Z"
   },
   {
    "duration": 15608,
    "start_time": "2022-06-04T09:33:04.248Z"
   },
   {
    "duration": 8608,
    "start_time": "2022-06-04T09:33:19.859Z"
   },
   {
    "duration": 413,
    "start_time": "2022-06-04T09:33:28.469Z"
   },
   {
    "duration": 71,
    "start_time": "2022-06-04T09:33:28.883Z"
   },
   {
    "duration": 2114,
    "start_time": "2022-06-04T09:33:28.955Z"
   },
   {
    "duration": 751,
    "start_time": "2022-06-04T09:33:37.706Z"
   },
   {
    "duration": 2785,
    "start_time": "2022-06-04T09:35:05.090Z"
   },
   {
    "duration": 1286,
    "start_time": "2022-06-04T09:35:17.890Z"
   },
   {
    "duration": 1332,
    "start_time": "2022-06-04T09:35:46.432Z"
   },
   {
    "duration": 1160,
    "start_time": "2022-06-04T09:36:01.594Z"
   },
   {
    "duration": 859,
    "start_time": "2022-06-04T09:36:06.898Z"
   },
   {
    "duration": 1264,
    "start_time": "2022-06-04T09:36:15.418Z"
   },
   {
    "duration": 239,
    "start_time": "2022-06-04T09:38:02.424Z"
   },
   {
    "duration": 654,
    "start_time": "2022-06-04T09:38:03.006Z"
   },
   {
    "duration": 249,
    "start_time": "2022-06-04T09:38:28.206Z"
   },
   {
    "duration": 40,
    "start_time": "2022-06-04T09:38:39.427Z"
   },
   {
    "duration": 665,
    "start_time": "2022-06-04T09:38:43.808Z"
   },
   {
    "duration": 541,
    "start_time": "2022-06-04T09:38:57.518Z"
   },
   {
    "duration": 10,
    "start_time": "2022-06-04T09:39:02.494Z"
   },
   {
    "duration": 223,
    "start_time": "2022-06-04T09:39:03.834Z"
   },
   {
    "duration": 180,
    "start_time": "2022-06-04T09:39:16.931Z"
   },
   {
    "duration": 3,
    "start_time": "2022-06-04T09:42:35.498Z"
   },
   {
    "duration": 1515,
    "start_time": "2022-06-04T09:42:43.954Z"
   },
   {
    "duration": 613,
    "start_time": "2022-06-04T09:42:45.471Z"
   },
   {
    "duration": 38,
    "start_time": "2022-06-04T09:43:08.189Z"
   },
   {
    "duration": 30,
    "start_time": "2022-06-04T09:43:15.050Z"
   },
   {
    "duration": 1073,
    "start_time": "2022-06-04T09:43:27.418Z"
   },
   {
    "duration": 60,
    "start_time": "2022-06-04T09:43:28.494Z"
   },
   {
    "duration": 68,
    "start_time": "2022-06-04T09:43:42.093Z"
   },
   {
    "duration": 390,
    "start_time": "2022-06-04T09:44:00.093Z"
   },
   {
    "duration": 305,
    "start_time": "2022-06-04T09:44:22.452Z"
   },
   {
    "duration": 26,
    "start_time": "2022-06-04T09:51:49.041Z"
   },
   {
    "duration": 36,
    "start_time": "2022-06-04T09:53:06.583Z"
   },
   {
    "duration": 4964,
    "start_time": "2022-06-04T09:56:40.810Z"
   },
   {
    "duration": 5,
    "start_time": "2022-06-04T10:05:38.162Z"
   },
   {
    "duration": 2249,
    "start_time": "2022-06-04T10:05:58.411Z"
   },
   {
    "duration": 2543,
    "start_time": "2022-06-04T10:09:24.633Z"
   },
   {
    "duration": 1938,
    "start_time": "2022-06-04T10:12:16.536Z"
   },
   {
    "duration": 964,
    "start_time": "2022-06-04T10:15:39.123Z"
   },
   {
    "duration": 3,
    "start_time": "2022-06-04T10:21:42.498Z"
   },
   {
    "duration": 10,
    "start_time": "2022-06-04T10:21:52.698Z"
   },
   {
    "duration": 170,
    "start_time": "2022-06-04T10:24:01.828Z"
   },
   {
    "duration": 988,
    "start_time": "2022-06-04T10:27:47.075Z"
   },
   {
    "duration": 7,
    "start_time": "2022-06-04T10:28:27.774Z"
   },
   {
    "duration": 5,
    "start_time": "2022-06-04T10:38:42.620Z"
   },
   {
    "duration": 30,
    "start_time": "2022-06-04T10:38:51.692Z"
   },
   {
    "duration": 670,
    "start_time": "2022-06-04T10:39:14.732Z"
   },
   {
    "duration": 1727,
    "start_time": "2022-06-04T10:41:09.028Z"
   },
   {
    "duration": 1444,
    "start_time": "2022-06-04T10:42:40.584Z"
   },
   {
    "duration": 8,
    "start_time": "2022-06-04T10:47:01.536Z"
   },
   {
    "duration": 7,
    "start_time": "2022-06-04T10:47:08.484Z"
   },
   {
    "duration": 6,
    "start_time": "2022-06-04T10:47:17.028Z"
   },
   {
    "duration": 7,
    "start_time": "2022-06-04T10:47:20.984Z"
   },
   {
    "duration": 4,
    "start_time": "2022-06-04T10:47:47.632Z"
   },
   {
    "duration": 15154,
    "start_time": "2022-06-04T10:48:08.331Z"
   },
   {
    "duration": 8977,
    "start_time": "2022-06-04T10:48:23.487Z"
   },
   {
    "duration": 15,
    "start_time": "2022-06-04T10:48:32.466Z"
   },
   {
    "duration": 2070,
    "start_time": "2022-06-04T10:48:32.484Z"
   },
   {
    "duration": 3330,
    "start_time": "2022-06-04T10:48:34.556Z"
   },
   {
    "duration": 360,
    "start_time": "2022-06-04T10:48:37.953Z"
   },
   {
    "duration": 774,
    "start_time": "2022-06-04T10:48:38.315Z"
   },
   {
    "duration": 34,
    "start_time": "2022-06-04T10:48:39.151Z"
   },
   {
    "duration": 923,
    "start_time": "2022-06-04T10:48:39.252Z"
   },
   {
    "duration": 84,
    "start_time": "2022-06-04T10:48:40.179Z"
   },
   {
    "duration": 296,
    "start_time": "2022-06-04T10:48:40.264Z"
   },
   {
    "duration": 3,
    "start_time": "2022-06-04T10:48:40.562Z"
   },
   {
    "duration": 1747,
    "start_time": "2022-06-04T10:48:40.567Z"
   },
   {
    "duration": 707,
    "start_time": "2022-06-04T10:48:42.353Z"
   },
   {
    "duration": 101,
    "start_time": "2022-06-04T10:48:43.061Z"
   },
   {
    "duration": 88,
    "start_time": "2022-06-04T10:48:43.164Z"
   },
   {
    "duration": 1209,
    "start_time": "2022-06-04T10:48:43.255Z"
   },
   {
    "duration": 4,
    "start_time": "2022-06-04T10:48:44.465Z"
   },
   {
    "duration": 120,
    "start_time": "2022-06-04T10:48:44.471Z"
   },
   {
    "duration": 430,
    "start_time": "2022-06-04T10:48:44.653Z"
   },
   {
    "duration": 309,
    "start_time": "2022-06-04T10:48:45.084Z"
   },
   {
    "duration": 80,
    "start_time": "2022-06-04T10:48:45.395Z"
   },
   {
    "duration": 106,
    "start_time": "2022-06-04T10:48:45.477Z"
   },
   {
    "duration": 4375,
    "start_time": "2022-06-04T10:48:45.587Z"
   },
   {
    "duration": 1803,
    "start_time": "2022-06-04T10:48:49.963Z"
   },
   {
    "duration": 893,
    "start_time": "2022-06-04T10:48:51.768Z"
   },
   {
    "duration": 2054,
    "start_time": "2022-06-04T10:48:52.663Z"
   },
   {
    "duration": 10,
    "start_time": "2022-06-04T10:49:13.284Z"
   },
   {
    "duration": 709,
    "start_time": "2022-06-04T20:48:43.205Z"
   },
   {
    "duration": 14,
    "start_time": "2022-06-04T20:49:15.314Z"
   },
   {
    "duration": 15,
    "start_time": "2022-06-04T20:49:31.917Z"
   },
   {
    "duration": 9,
    "start_time": "2022-06-04T20:49:34.117Z"
   },
   {
    "duration": 12549,
    "start_time": "2022-06-04T20:57:27.745Z"
   },
   {
    "duration": 13,
    "start_time": "2022-06-04T20:57:40.455Z"
   },
   {
    "duration": 502,
    "start_time": "2022-06-04T20:57:48.834Z"
   },
   {
    "duration": 67,
    "start_time": "2022-06-04T20:57:56.749Z"
   },
   {
    "duration": 292,
    "start_time": "2022-06-04T20:57:59.747Z"
   },
   {
    "duration": 379,
    "start_time": "2022-06-04T21:01:54.250Z"
   },
   {
    "duration": 234,
    "start_time": "2022-06-04T21:02:30.692Z"
   },
   {
    "duration": 304,
    "start_time": "2022-06-04T21:07:53.047Z"
   },
   {
    "duration": 12,
    "start_time": "2022-06-04T21:21:32.887Z"
   },
   {
    "duration": 1574,
    "start_time": "2022-06-04T21:21:32.902Z"
   },
   {
    "duration": 31,
    "start_time": "2022-06-04T21:21:34.479Z"
   },
   {
    "duration": 2796,
    "start_time": "2022-06-04T21:21:34.512Z"
   },
   {
    "duration": 278,
    "start_time": "2022-06-04T21:21:37.310Z"
   },
   {
    "duration": 4617,
    "start_time": "2022-06-04T21:21:37.590Z"
   },
   {
    "duration": 412,
    "start_time": "2022-06-04T21:21:42.209Z"
   },
   {
    "duration": 1425,
    "start_time": "2022-06-04T21:21:42.623Z"
   },
   {
    "duration": 186,
    "start_time": "2022-06-04T21:21:44.054Z"
   },
   {
    "duration": 1353,
    "start_time": "2022-06-04T21:21:44.244Z"
   },
   {
    "duration": 28,
    "start_time": "2022-06-04T21:21:45.599Z"
   },
   {
    "duration": 391,
    "start_time": "2022-06-04T21:21:45.628Z"
   },
   {
    "duration": 24,
    "start_time": "2022-06-04T21:21:46.022Z"
   },
   {
    "duration": 3052,
    "start_time": "2022-06-04T21:21:46.049Z"
   },
   {
    "duration": 1244,
    "start_time": "2022-06-04T21:21:49.103Z"
   },
   {
    "duration": 152,
    "start_time": "2022-06-04T21:21:50.396Z"
   },
   {
    "duration": 121,
    "start_time": "2022-06-04T21:21:50.594Z"
   },
   {
    "duration": 1940,
    "start_time": "2022-06-04T21:21:50.716Z"
   },
   {
    "duration": 6,
    "start_time": "2022-06-04T21:21:52.691Z"
   },
   {
    "duration": 341,
    "start_time": "2022-06-04T21:21:52.699Z"
   },
   {
    "duration": 806,
    "start_time": "2022-06-04T21:21:53.042Z"
   },
   {
    "duration": 484,
    "start_time": "2022-06-04T21:21:53.851Z"
   },
   {
    "duration": 87,
    "start_time": "2022-06-04T21:21:54.336Z"
   },
   {
    "duration": 174,
    "start_time": "2022-06-04T21:21:54.425Z"
   },
   {
    "duration": 8738,
    "start_time": "2022-06-04T21:21:54.600Z"
   },
   {
    "duration": 4361,
    "start_time": "2022-06-04T21:22:03.340Z"
   },
   {
    "duration": 4,
    "start_time": "2022-06-04T21:23:01.259Z"
   },
   {
    "duration": 4,
    "start_time": "2022-06-04T21:23:06.137Z"
   },
   {
    "duration": 5,
    "start_time": "2022-06-04T21:23:16.320Z"
   },
   {
    "duration": 14,
    "start_time": "2022-06-04T21:23:18.596Z"
   },
   {
    "duration": 5,
    "start_time": "2022-06-04T21:23:29.628Z"
   },
   {
    "duration": 11,
    "start_time": "2022-06-04T21:23:31.691Z"
   },
   {
    "duration": 6,
    "start_time": "2022-06-04T21:23:48.743Z"
   },
   {
    "duration": 12,
    "start_time": "2022-06-04T21:24:10.311Z"
   },
   {
    "duration": 20,
    "start_time": "2022-06-04T21:24:13.786Z"
   },
   {
    "duration": 5,
    "start_time": "2022-06-04T21:24:22.855Z"
   },
   {
    "duration": 7,
    "start_time": "2022-06-04T21:24:29.493Z"
   },
   {
    "duration": 4,
    "start_time": "2022-06-04T21:24:34.436Z"
   },
   {
    "duration": 5,
    "start_time": "2022-06-04T21:25:04.140Z"
   },
   {
    "duration": 27,
    "start_time": "2022-06-04T21:25:10.586Z"
   },
   {
    "duration": 6,
    "start_time": "2022-06-04T21:25:19.019Z"
   },
   {
    "duration": 9,
    "start_time": "2022-06-04T21:25:27.749Z"
   },
   {
    "duration": 6,
    "start_time": "2022-06-04T21:25:29.885Z"
   },
   {
    "duration": 5,
    "start_time": "2022-06-04T21:25:40.141Z"
   },
   {
    "duration": 4,
    "start_time": "2022-06-04T21:25:47.647Z"
   },
   {
    "duration": 3,
    "start_time": "2022-06-04T21:28:05.229Z"
   },
   {
    "duration": 10,
    "start_time": "2022-06-04T21:28:09.086Z"
   },
   {
    "duration": 10,
    "start_time": "2022-06-04T21:28:17.509Z"
   },
   {
    "duration": 8,
    "start_time": "2022-06-04T21:28:19.423Z"
   },
   {
    "duration": 38,
    "start_time": "2022-06-04T21:28:25.285Z"
   },
   {
    "duration": 78,
    "start_time": "2022-06-04T21:32:38.300Z"
   }
  ],
  "colab": {
   "name": "PySparkSprint.ipynb",
   "provenance": []
  },
  "kernelspec": {
   "display_name": "Python 3 (ipykernel)",
   "language": "python",
   "name": "python3"
  },
  "language_info": {
   "codemirror_mode": {
    "name": "ipython",
    "version": 3
   },
   "file_extension": ".py",
   "mimetype": "text/x-python",
   "name": "python",
   "nbconvert_exporter": "python",
   "pygments_lexer": "ipython3",
   "version": "3.8.9"
  },
  "toc": {
   "base_numbering": 1,
   "nav_menu": {},
   "number_sections": true,
   "sideBar": true,
   "skip_h1_title": true,
   "title_cell": "Table of Contents",
   "title_sidebar": "Contents",
   "toc_cell": false,
   "toc_position": {},
   "toc_section_display": true,
   "toc_window_display": false
  }
 },
 "nbformat": 4,
 "nbformat_minor": 5
}
